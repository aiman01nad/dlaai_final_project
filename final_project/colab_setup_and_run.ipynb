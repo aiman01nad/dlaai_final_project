{
  "cells": [
    {
      "cell_type": "code",
      "source": [
        "from google.colab import drive\n",
        "drive.mount(\"/content/drive\", force_remount=True)"
      ],
      "metadata": {
        "colab": {
          "base_uri": "https://localhost:8080/"
        },
        "id": "R09KyPW_RGUc",
        "outputId": "57b7472f-38a4-44cc-f2fb-5ef15ccdca29"
      },
      "id": "R09KyPW_RGUc",
      "execution_count": 1,
      "outputs": [
        {
          "output_type": "stream",
          "name": "stdout",
          "text": [
            "Mounted at /content/drive\n"
          ]
        }
      ]
    },
    {
      "cell_type": "code",
      "execution_count": 2,
      "id": "e4069b3f",
      "metadata": {
        "vscode": {
          "languageId": "plaintext"
        },
        "colab": {
          "base_uri": "https://localhost:8080/"
        },
        "id": "e4069b3f",
        "outputId": "05c57a04-9723-4c12-84dc-d753d8a4911c"
      },
      "outputs": [
        {
          "output_type": "stream",
          "name": "stdout",
          "text": [
            "Cloning into 'dlaai_final_project'...\n",
            "remote: Enumerating objects: 582, done.\u001b[K\n",
            "remote: Counting objects: 100% (20/20), done.\u001b[K\n",
            "remote: Compressing objects: 100% (18/18), done.\u001b[K\n",
            "remote: Total 582 (delta 0), reused 3 (delta 0), pack-reused 562 (from 1)\u001b[K\n",
            "Receiving objects: 100% (582/582), 23.65 MiB | 19.11 MiB/s, done.\n",
            "Resolving deltas: 100% (230/230), done.\n",
            "/content/dlaai_final_project/final_project\n"
          ]
        }
      ],
      "source": [
        "!git clone https://github.com/aiman01nad/dlaai_final_project\n",
        "%cd dlaai_final_project/final_project"
      ]
    },
    {
      "cell_type": "code",
      "source": [
        "!pip install -r requirements.txt"
      ],
      "metadata": {
        "colab": {
          "base_uri": "https://localhost:8080/"
        },
        "id": "gVLpPzlHREai",
        "outputId": "5017ebb6-5bb0-4cf0-f68a-56c47debfe94",
        "collapsed": true
      },
      "id": "gVLpPzlHREai",
      "execution_count": null,
      "outputs": [
        {
          "output_type": "stream",
          "name": "stdout",
          "text": [
            "Requirement already satisfied: lightning>=2.5.1.post0 in /usr/local/lib/python3.11/dist-packages (from -r requirements.txt (line 1)) (2.5.1.post0)\n",
            "Requirement already satisfied: matplotlib>=3.10.3 in /usr/local/lib/python3.11/dist-packages (from -r requirements.txt (line 2)) (3.10.3)\n",
            "Requirement already satisfied: numpy==1.24.4 in /usr/local/lib/python3.11/dist-packages (from -r requirements.txt (line 3)) (1.24.4)\n",
            "Requirement already satisfied: scikit-learn>=1.6.1 in /usr/local/lib/python3.11/dist-packages (from -r requirements.txt (line 4)) (1.6.1)\n",
            "Requirement already satisfied: scikit-learn-extra>=0.3.0 in /usr/local/lib/python3.11/dist-packages (from -r requirements.txt (line 5)) (0.3.0)\n",
            "Requirement already satisfied: seaborn>=0.13.2 in /usr/local/lib/python3.11/dist-packages (from -r requirements.txt (line 6)) (0.13.2)\n",
            "Requirement already satisfied: torch>=2.7.0 in /usr/local/lib/python3.11/dist-packages (from -r requirements.txt (line 7)) (2.7.0)\n",
            "Requirement already satisfied: torchvision>=0.22.0 in /usr/local/lib/python3.11/dist-packages (from -r requirements.txt (line 8)) (0.22.0)\n",
            "Requirement already satisfied: PyYAML<8.0,>=5.4 in /usr/local/lib/python3.11/dist-packages (from lightning>=2.5.1.post0->-r requirements.txt (line 1)) (6.0.2)\n",
            "Requirement already satisfied: fsspec<2026.0,>=2022.5.0 in /usr/local/lib/python3.11/dist-packages (from fsspec[http]<2026.0,>=2022.5.0->lightning>=2.5.1.post0->-r requirements.txt (line 1)) (2025.3.2)\n",
            "Requirement already satisfied: lightning-utilities<2.0,>=0.10.0 in /usr/local/lib/python3.11/dist-packages (from lightning>=2.5.1.post0->-r requirements.txt (line 1)) (0.14.3)\n",
            "Requirement already satisfied: packaging<25.0,>=20.0 in /usr/local/lib/python3.11/dist-packages (from lightning>=2.5.1.post0->-r requirements.txt (line 1)) (24.2)\n",
            "Requirement already satisfied: torchmetrics<3.0,>=0.7.0 in /usr/local/lib/python3.11/dist-packages (from lightning>=2.5.1.post0->-r requirements.txt (line 1)) (1.7.1)\n",
            "Requirement already satisfied: tqdm<6.0,>=4.57.0 in /usr/local/lib/python3.11/dist-packages (from lightning>=2.5.1.post0->-r requirements.txt (line 1)) (4.67.1)\n",
            "Requirement already satisfied: typing-extensions<6.0,>=4.4.0 in /usr/local/lib/python3.11/dist-packages (from lightning>=2.5.1.post0->-r requirements.txt (line 1)) (4.13.2)\n",
            "Requirement already satisfied: pytorch-lightning in /usr/local/lib/python3.11/dist-packages (from lightning>=2.5.1.post0->-r requirements.txt (line 1)) (2.5.1.post0)\n",
            "Requirement already satisfied: contourpy>=1.0.1 in /usr/local/lib/python3.11/dist-packages (from matplotlib>=3.10.3->-r requirements.txt (line 2)) (1.3.2)\n",
            "Requirement already satisfied: cycler>=0.10 in /usr/local/lib/python3.11/dist-packages (from matplotlib>=3.10.3->-r requirements.txt (line 2)) (0.12.1)\n",
            "Requirement already satisfied: fonttools>=4.22.0 in /usr/local/lib/python3.11/dist-packages (from matplotlib>=3.10.3->-r requirements.txt (line 2)) (4.58.0)\n",
            "Requirement already satisfied: kiwisolver>=1.3.1 in /usr/local/lib/python3.11/dist-packages (from matplotlib>=3.10.3->-r requirements.txt (line 2)) (1.4.8)\n",
            "Requirement already satisfied: pillow>=8 in /usr/local/lib/python3.11/dist-packages (from matplotlib>=3.10.3->-r requirements.txt (line 2)) (11.2.1)\n",
            "Requirement already satisfied: pyparsing>=2.3.1 in /usr/local/lib/python3.11/dist-packages (from matplotlib>=3.10.3->-r requirements.txt (line 2)) (3.2.3)\n",
            "Requirement already satisfied: python-dateutil>=2.7 in /usr/local/lib/python3.11/dist-packages (from matplotlib>=3.10.3->-r requirements.txt (line 2)) (2.9.0.post0)\n",
            "Requirement already satisfied: scipy>=1.6.0 in /usr/local/lib/python3.11/dist-packages (from scikit-learn>=1.6.1->-r requirements.txt (line 4)) (1.15.3)\n",
            "Requirement already satisfied: joblib>=1.2.0 in /usr/local/lib/python3.11/dist-packages (from scikit-learn>=1.6.1->-r requirements.txt (line 4)) (1.5.0)\n",
            "Requirement already satisfied: threadpoolctl>=3.1.0 in /usr/local/lib/python3.11/dist-packages (from scikit-learn>=1.6.1->-r requirements.txt (line 4)) (3.6.0)\n",
            "Requirement already satisfied: pandas>=1.2 in /usr/local/lib/python3.11/dist-packages (from seaborn>=0.13.2->-r requirements.txt (line 6)) (2.2.2)\n",
            "Requirement already satisfied: filelock in /usr/local/lib/python3.11/dist-packages (from torch>=2.7.0->-r requirements.txt (line 7)) (3.18.0)\n",
            "Requirement already satisfied: sympy>=1.13.3 in /usr/local/lib/python3.11/dist-packages (from torch>=2.7.0->-r requirements.txt (line 7)) (1.14.0)\n",
            "Requirement already satisfied: networkx in /usr/local/lib/python3.11/dist-packages (from torch>=2.7.0->-r requirements.txt (line 7)) (3.4.2)\n",
            "Requirement already satisfied: jinja2 in /usr/local/lib/python3.11/dist-packages (from torch>=2.7.0->-r requirements.txt (line 7)) (3.1.6)\n",
            "Requirement already satisfied: nvidia-cuda-nvrtc-cu12==12.6.77 in /usr/local/lib/python3.11/dist-packages (from torch>=2.7.0->-r requirements.txt (line 7)) (12.6.77)\n",
            "Requirement already satisfied: nvidia-cuda-runtime-cu12==12.6.77 in /usr/local/lib/python3.11/dist-packages (from torch>=2.7.0->-r requirements.txt (line 7)) (12.6.77)\n",
            "Requirement already satisfied: nvidia-cuda-cupti-cu12==12.6.80 in /usr/local/lib/python3.11/dist-packages (from torch>=2.7.0->-r requirements.txt (line 7)) (12.6.80)\n",
            "Requirement already satisfied: nvidia-cudnn-cu12==9.5.1.17 in /usr/local/lib/python3.11/dist-packages (from torch>=2.7.0->-r requirements.txt (line 7)) (9.5.1.17)\n",
            "Requirement already satisfied: nvidia-cublas-cu12==12.6.4.1 in /usr/local/lib/python3.11/dist-packages (from torch>=2.7.0->-r requirements.txt (line 7)) (12.6.4.1)\n",
            "Requirement already satisfied: nvidia-cufft-cu12==11.3.0.4 in /usr/local/lib/python3.11/dist-packages (from torch>=2.7.0->-r requirements.txt (line 7)) (11.3.0.4)\n",
            "Requirement already satisfied: nvidia-curand-cu12==10.3.7.77 in /usr/local/lib/python3.11/dist-packages (from torch>=2.7.0->-r requirements.txt (line 7)) (10.3.7.77)\n",
            "Requirement already satisfied: nvidia-cusolver-cu12==11.7.1.2 in /usr/local/lib/python3.11/dist-packages (from torch>=2.7.0->-r requirements.txt (line 7)) (11.7.1.2)\n",
            "Requirement already satisfied: nvidia-cusparse-cu12==12.5.4.2 in /usr/local/lib/python3.11/dist-packages (from torch>=2.7.0->-r requirements.txt (line 7)) (12.5.4.2)\n",
            "Requirement already satisfied: nvidia-cusparselt-cu12==0.6.3 in /usr/local/lib/python3.11/dist-packages (from torch>=2.7.0->-r requirements.txt (line 7)) (0.6.3)\n",
            "Requirement already satisfied: nvidia-nccl-cu12==2.26.2 in /usr/local/lib/python3.11/dist-packages (from torch>=2.7.0->-r requirements.txt (line 7)) (2.26.2)\n",
            "Requirement already satisfied: nvidia-nvtx-cu12==12.6.77 in /usr/local/lib/python3.11/dist-packages (from torch>=2.7.0->-r requirements.txt (line 7)) (12.6.77)\n",
            "Requirement already satisfied: nvidia-nvjitlink-cu12==12.6.85 in /usr/local/lib/python3.11/dist-packages (from torch>=2.7.0->-r requirements.txt (line 7)) (12.6.85)\n",
            "Requirement already satisfied: nvidia-cufile-cu12==1.11.1.6 in /usr/local/lib/python3.11/dist-packages (from torch>=2.7.0->-r requirements.txt (line 7)) (1.11.1.6)\n",
            "Requirement already satisfied: triton==3.3.0 in /usr/local/lib/python3.11/dist-packages (from torch>=2.7.0->-r requirements.txt (line 7)) (3.3.0)\n",
            "Requirement already satisfied: setuptools>=40.8.0 in /usr/local/lib/python3.11/dist-packages (from triton==3.3.0->torch>=2.7.0->-r requirements.txt (line 7)) (75.2.0)\n",
            "Requirement already satisfied: aiohttp!=4.0.0a0,!=4.0.0a1 in /usr/local/lib/python3.11/dist-packages (from fsspec[http]<2026.0,>=2022.5.0->lightning>=2.5.1.post0->-r requirements.txt (line 1)) (3.11.15)\n",
            "Requirement already satisfied: pytz>=2020.1 in /usr/local/lib/python3.11/dist-packages (from pandas>=1.2->seaborn>=0.13.2->-r requirements.txt (line 6)) (2025.2)\n",
            "Requirement already satisfied: tzdata>=2022.7 in /usr/local/lib/python3.11/dist-packages (from pandas>=1.2->seaborn>=0.13.2->-r requirements.txt (line 6)) (2025.2)\n",
            "Requirement already satisfied: six>=1.5 in /usr/local/lib/python3.11/dist-packages (from python-dateutil>=2.7->matplotlib>=3.10.3->-r requirements.txt (line 2)) (1.17.0)\n",
            "Requirement already satisfied: mpmath<1.4,>=1.1.0 in /usr/local/lib/python3.11/dist-packages (from sympy>=1.13.3->torch>=2.7.0->-r requirements.txt (line 7)) (1.3.0)\n",
            "Requirement already satisfied: MarkupSafe>=2.0 in /usr/local/lib/python3.11/dist-packages (from jinja2->torch>=2.7.0->-r requirements.txt (line 7)) (3.0.2)\n",
            "Requirement already satisfied: aiohappyeyeballs>=2.3.0 in /usr/local/lib/python3.11/dist-packages (from aiohttp!=4.0.0a0,!=4.0.0a1->fsspec[http]<2026.0,>=2022.5.0->lightning>=2.5.1.post0->-r requirements.txt (line 1)) (2.6.1)\n",
            "Requirement already satisfied: aiosignal>=1.1.2 in /usr/local/lib/python3.11/dist-packages (from aiohttp!=4.0.0a0,!=4.0.0a1->fsspec[http]<2026.0,>=2022.5.0->lightning>=2.5.1.post0->-r requirements.txt (line 1)) (1.3.2)\n",
            "Requirement already satisfied: attrs>=17.3.0 in /usr/local/lib/python3.11/dist-packages (from aiohttp!=4.0.0a0,!=4.0.0a1->fsspec[http]<2026.0,>=2022.5.0->lightning>=2.5.1.post0->-r requirements.txt (line 1)) (25.3.0)\n",
            "Requirement already satisfied: frozenlist>=1.1.1 in /usr/local/lib/python3.11/dist-packages (from aiohttp!=4.0.0a0,!=4.0.0a1->fsspec[http]<2026.0,>=2022.5.0->lightning>=2.5.1.post0->-r requirements.txt (line 1)) (1.6.0)\n",
            "Requirement already satisfied: multidict<7.0,>=4.5 in /usr/local/lib/python3.11/dist-packages (from aiohttp!=4.0.0a0,!=4.0.0a1->fsspec[http]<2026.0,>=2022.5.0->lightning>=2.5.1.post0->-r requirements.txt (line 1)) (6.4.3)\n",
            "Requirement already satisfied: propcache>=0.2.0 in /usr/local/lib/python3.11/dist-packages (from aiohttp!=4.0.0a0,!=4.0.0a1->fsspec[http]<2026.0,>=2022.5.0->lightning>=2.5.1.post0->-r requirements.txt (line 1)) (0.3.1)\n",
            "Requirement already satisfied: yarl<2.0,>=1.17.0 in /usr/local/lib/python3.11/dist-packages (from aiohttp!=4.0.0a0,!=4.0.0a1->fsspec[http]<2026.0,>=2022.5.0->lightning>=2.5.1.post0->-r requirements.txt (line 1)) (1.20.0)\n",
            "Requirement already satisfied: idna>=2.0 in /usr/local/lib/python3.11/dist-packages (from yarl<2.0,>=1.17.0->aiohttp!=4.0.0a0,!=4.0.0a1->fsspec[http]<2026.0,>=2022.5.0->lightning>=2.5.1.post0->-r requirements.txt (line 1)) (3.10)\n"
          ]
        }
      ]
    },
    {
      "cell_type": "code",
      "source": [
        "!git pull"
      ],
      "metadata": {
        "colab": {
          "base_uri": "https://localhost:8080/"
        },
        "id": "YQU2cdXjYcNl",
        "outputId": "51e2a850-bbe9-4c63-b5d5-83fe6299066c"
      },
      "id": "YQU2cdXjYcNl",
      "execution_count": 8,
      "outputs": [
        {
          "output_type": "stream",
          "name": "stdout",
          "text": [
            "Updating f2345f7..a6a633e\n",
            "Fast-forward\n",
            " final_project/pyproject.toml                        |  1 \u001b[32m+\u001b[m\n",
            " final_project/src/final_project/data/mnist.py       | 15 \u001b[32m+++++++++\u001b[m\u001b[31m------\u001b[m\n",
            " .../src/final_project/train/train_vqvae.py          | 21 \u001b[32m+++++++++++++++++\u001b[m\u001b[31m----\u001b[m\n",
            " 3 files changed, 27 insertions(+), 10 deletions(-)\n"
          ]
        }
      ]
    },
    {
      "cell_type": "code",
      "source": [
        "import torch\n",
        "print(\"CUDA available:\", torch.cuda.is_available())"
      ],
      "metadata": {
        "colab": {
          "base_uri": "https://localhost:8080/"
        },
        "id": "xhVfIYHrO-5Q",
        "outputId": "0ca53e85-95f0-4b21-ea53-c1b2ac21b62b"
      },
      "id": "xhVfIYHrO-5Q",
      "execution_count": 3,
      "outputs": [
        {
          "output_type": "stream",
          "name": "stdout",
          "text": [
            "CUDA available: True\n"
          ]
        }
      ]
    },
    {
      "cell_type": "code",
      "source": [
        "import sys\n",
        "sys.path.append(\"src\")"
      ],
      "metadata": {
        "id": "1pi-UdUCWHQL"
      },
      "id": "1pi-UdUCWHQL",
      "execution_count": 4,
      "outputs": []
    },
    {
      "cell_type": "code",
      "execution_count": 9,
      "id": "3097fa21",
      "metadata": {
        "vscode": {
          "languageId": "plaintext"
        },
        "colab": {
          "base_uri": "https://localhost:8080/"
        },
        "id": "3097fa21",
        "outputId": "f826dc7c-85c1-4fa0-a9e3-36a8c443a972"
      },
      "outputs": [
        {
          "output_type": "stream",
          "name": "stdout",
          "text": [
            "Epoch 0 [0/50000] Loss: 0.245220\n",
            "Epoch 0 [12800/50000] Loss: 0.599769\n",
            "Epoch 0 [25600/50000] Loss: 0.266800\n",
            "Epoch 0 [38400/50000] Loss: 0.090014\n",
            "====> Epoch: 0 Train loss: 1.2337 | Val loss: 0.0611\n",
            "Epoch 1 [0/50000] Loss: 0.060279\n",
            "Epoch 1 [12800/50000] Loss: 0.047547\n",
            "Epoch 1 [25600/50000] Loss: 0.038718\n",
            "Epoch 1 [38400/50000] Loss: 0.035191\n",
            "====> Epoch: 1 Train loss: 0.0423 | Val loss: 0.0309\n",
            "Epoch 2 [0/50000] Loss: 0.029787\n",
            "Epoch 2 [12800/50000] Loss: 0.028495\n",
            "Epoch 2 [25600/50000] Loss: 0.026732\n",
            "Epoch 2 [38400/50000] Loss: 0.024995\n",
            "====> Epoch: 2 Train loss: 0.0267 | Val loss: 0.0236\n",
            "Epoch 3 [0/50000] Loss: 0.023346\n",
            "Epoch 3 [12800/50000] Loss: 0.022963\n",
            "Epoch 3 [25600/50000] Loss: 0.022868\n",
            "Epoch 3 [38400/50000] Loss: 0.022767\n",
            "====> Epoch: 3 Train loss: 0.0225 | Val loss: 0.0220\n",
            "Epoch 4 [0/50000] Loss: 0.021840\n",
            "Epoch 4 [12800/50000] Loss: 0.021579\n",
            "Epoch 4 [25600/50000] Loss: 0.021785\n",
            "Epoch 4 [38400/50000] Loss: 0.020496\n",
            "====> Epoch: 4 Train loss: 0.0213 | Val loss: 0.0209\n",
            "Epoch 5 [0/50000] Loss: 0.020554\n",
            "Epoch 5 [12800/50000] Loss: 0.020474\n",
            "Epoch 5 [25600/50000] Loss: 0.019973\n",
            "Epoch 5 [38400/50000] Loss: 0.020350\n",
            "====> Epoch: 5 Train loss: 0.0202 | Val loss: 0.0197\n",
            "Epoch 6 [0/50000] Loss: 0.020158\n",
            "Epoch 6 [12800/50000] Loss: 0.018716\n",
            "Epoch 6 [25600/50000] Loss: 0.018176\n",
            "Epoch 6 [38400/50000] Loss: 0.018847\n",
            "====> Epoch: 6 Train loss: 0.0190 | Val loss: 0.0187\n",
            "Epoch 7 [0/50000] Loss: 0.018329\n",
            "Epoch 7 [12800/50000] Loss: 0.018986\n",
            "Epoch 7 [25600/50000] Loss: 0.018990\n",
            "Epoch 7 [38400/50000] Loss: 0.018858\n",
            "====> Epoch: 7 Train loss: 0.0184 | Val loss: 0.0184\n",
            "Epoch 8 [0/50000] Loss: 0.018350\n",
            "Epoch 8 [12800/50000] Loss: 0.018337\n",
            "Epoch 8 [25600/50000] Loss: 0.017182\n",
            "Epoch 8 [38400/50000] Loss: 0.017582\n",
            "====> Epoch: 8 Train loss: 0.0179 | Val loss: 0.0179\n",
            "Epoch 9 [0/50000] Loss: 0.017656\n",
            "Epoch 9 [12800/50000] Loss: 0.016739\n",
            "Epoch 9 [25600/50000] Loss: 0.017382\n",
            "Epoch 9 [38400/50000] Loss: 0.017352\n",
            "====> Epoch: 9 Train loss: 0.0176 | Val loss: 0.0174\n",
            "Epoch 10 [0/50000] Loss: 0.017099\n",
            "Epoch 10 [12800/50000] Loss: 0.017087\n",
            "Epoch 10 [25600/50000] Loss: 0.017513\n",
            "Epoch 10 [38400/50000] Loss: 0.015999\n",
            "====> Epoch: 10 Train loss: 0.0172 | Val loss: 0.0174\n",
            "Epoch 11 [0/50000] Loss: 0.018118\n",
            "Epoch 11 [12800/50000] Loss: 0.016508\n",
            "Epoch 11 [25600/50000] Loss: 0.016389\n",
            "Epoch 11 [38400/50000] Loss: 0.016556\n",
            "====> Epoch: 11 Train loss: 0.0169 | Val loss: 0.0168\n",
            "Epoch 12 [0/50000] Loss: 0.016363\n",
            "Epoch 12 [12800/50000] Loss: 0.016084\n",
            "Epoch 12 [25600/50000] Loss: 0.016731\n",
            "Epoch 12 [38400/50000] Loss: 0.016693\n",
            "====> Epoch: 12 Train loss: 0.0166 | Val loss: 0.0167\n",
            "Epoch 13 [0/50000] Loss: 0.016611\n",
            "Epoch 13 [12800/50000] Loss: 0.016332\n",
            "Epoch 13 [25600/50000] Loss: 0.016778\n",
            "Epoch 13 [38400/50000] Loss: 0.016339\n",
            "====> Epoch: 13 Train loss: 0.0165 | Val loss: 0.0165\n",
            "Epoch 14 [0/50000] Loss: 0.015867\n",
            "Epoch 14 [12800/50000] Loss: 0.016300\n",
            "Epoch 14 [25600/50000] Loss: 0.016603\n",
            "Epoch 14 [38400/50000] Loss: 0.016676\n",
            "====> Epoch: 14 Train loss: 0.0164 | Val loss: 0.0167\n",
            "Epoch 15 [0/50000] Loss: 0.016001\n",
            "Epoch 15 [12800/50000] Loss: 0.016880\n",
            "Epoch 15 [25600/50000] Loss: 0.017091\n",
            "Epoch 15 [38400/50000] Loss: 0.016700\n",
            "====> Epoch: 15 Train loss: 0.0164 | Val loss: 0.0167\n",
            "Epoch 16 [0/50000] Loss: 0.016415\n",
            "Epoch 16 [12800/50000] Loss: 0.016203\n",
            "Epoch 16 [25600/50000] Loss: 0.016388\n",
            "Epoch 16 [38400/50000] Loss: 0.017245\n",
            "====> Epoch: 16 Train loss: 0.0163 | Val loss: 0.0165\n",
            "Epoch 17 [0/50000] Loss: 0.016602\n",
            "Epoch 17 [12800/50000] Loss: 0.016135\n",
            "Epoch 17 [25600/50000] Loss: 0.016007\n",
            "Epoch 17 [38400/50000] Loss: 0.016163\n",
            "====> Epoch: 17 Train loss: 0.0162 | Val loss: 0.0162\n",
            "Epoch 18 [0/50000] Loss: 0.015877\n",
            "Epoch 18 [12800/50000] Loss: 0.015256\n",
            "Epoch 18 [25600/50000] Loss: 0.015731\n",
            "Epoch 18 [38400/50000] Loss: 0.015781\n",
            "====> Epoch: 18 Train loss: 0.0161 | Val loss: 0.0162\n",
            "Epoch 19 [0/50000] Loss: 0.016224\n",
            "Epoch 19 [12800/50000] Loss: 0.014831\n",
            "Epoch 19 [25600/50000] Loss: 0.015757\n",
            "Epoch 19 [38400/50000] Loss: 0.015908\n",
            "====> Epoch: 19 Train loss: 0.0160 | Val loss: 0.0162\n",
            "Epoch 20 [0/50000] Loss: 0.015539\n",
            "Epoch 20 [12800/50000] Loss: 0.015834\n",
            "Epoch 20 [25600/50000] Loss: 0.016264\n",
            "Epoch 20 [38400/50000] Loss: 0.015598\n",
            "====> Epoch: 20 Train loss: 0.0160 | Val loss: 0.0163\n",
            "Epoch 21 [0/50000] Loss: 0.015097\n",
            "Epoch 21 [12800/50000] Loss: 0.016373\n",
            "Epoch 21 [25600/50000] Loss: 0.014808\n",
            "Epoch 21 [38400/50000] Loss: 0.015828\n",
            "====> Epoch: 21 Train loss: 0.0160 | Val loss: 0.0161\n",
            "Epoch 22 [0/50000] Loss: 0.016505\n",
            "Epoch 22 [12800/50000] Loss: 0.015984\n",
            "Epoch 22 [25600/50000] Loss: 0.015537\n",
            "Epoch 22 [38400/50000] Loss: 0.015986\n",
            "====> Epoch: 22 Train loss: 0.0159 | Val loss: 0.0159\n",
            "Epoch 23 [0/50000] Loss: 0.016115\n",
            "Epoch 23 [12800/50000] Loss: 0.016197\n",
            "Epoch 23 [25600/50000] Loss: 0.016030\n",
            "Epoch 23 [38400/50000] Loss: 0.015787\n",
            "====> Epoch: 23 Train loss: 0.0159 | Val loss: 0.0159\n",
            "Epoch 24 [0/50000] Loss: 0.015889\n",
            "Epoch 24 [12800/50000] Loss: 0.015682\n",
            "Epoch 24 [25600/50000] Loss: 0.015871\n",
            "Epoch 24 [38400/50000] Loss: 0.016029\n",
            "====> Epoch: 24 Train loss: 0.0158 | Val loss: 0.0160\n",
            "Epoch 25 [0/50000] Loss: 0.016079\n",
            "Epoch 25 [12800/50000] Loss: 0.015965\n",
            "Epoch 25 [25600/50000] Loss: 0.016065\n",
            "Epoch 25 [38400/50000] Loss: 0.015379\n",
            "====> Epoch: 25 Train loss: 0.0157 | Val loss: 0.0157\n",
            "Epoch 26 [0/50000] Loss: 0.015552\n",
            "Epoch 26 [12800/50000] Loss: 0.015684\n",
            "Epoch 26 [25600/50000] Loss: 0.015077\n",
            "Epoch 26 [38400/50000] Loss: 0.016816\n",
            "====> Epoch: 26 Train loss: 0.0156 | Val loss: 0.0156\n",
            "Epoch 27 [0/50000] Loss: 0.015659\n",
            "Epoch 27 [12800/50000] Loss: 0.014803\n",
            "Epoch 27 [25600/50000] Loss: 0.015376\n",
            "Epoch 27 [38400/50000] Loss: 0.016151\n",
            "====> Epoch: 27 Train loss: 0.0156 | Val loss: 0.0156\n",
            "Epoch 28 [0/50000] Loss: 0.015894\n",
            "Epoch 28 [12800/50000] Loss: 0.015083\n",
            "Epoch 28 [25600/50000] Loss: 0.015427\n",
            "Epoch 28 [38400/50000] Loss: 0.015161\n",
            "====> Epoch: 28 Train loss: 0.0155 | Val loss: 0.0155\n",
            "Epoch 29 [0/50000] Loss: 0.015771\n",
            "Epoch 29 [12800/50000] Loss: 0.015681\n",
            "Epoch 29 [25600/50000] Loss: 0.016472\n",
            "Epoch 29 [38400/50000] Loss: 0.015129\n",
            "====> Epoch: 29 Train loss: 0.0154 | Val loss: 0.0155\n",
            "Model saved to /content/dlaai_final_project/final_project/src/final_project/checkpoints/vqvae.pth\n"
          ]
        }
      ],
      "source": [
        "!PYTHONPATH=src python src/final_project/train/train_vqvae.py"
      ]
    }
  ],
  "metadata": {
    "language_info": {
      "name": "python"
    },
    "colab": {
      "provenance": [],
      "gpuType": "T4"
    },
    "kernelspec": {
      "name": "python3",
      "display_name": "Python 3"
    },
    "accelerator": "GPU"
  },
  "nbformat": 4,
  "nbformat_minor": 5
}