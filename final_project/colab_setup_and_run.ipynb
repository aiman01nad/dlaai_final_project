{
  "cells": [
    {
      "cell_type": "code",
      "source": [
        "from google.colab import drive\n",
        "drive.mount(\"/content/drive\", force_remount=True)"
      ],
      "metadata": {
        "colab": {
          "base_uri": "https://localhost:8080/"
        },
        "id": "R09KyPW_RGUc",
        "outputId": "b5a9182e-793a-45a2-c512-d19e0e47bc63"
      },
      "id": "R09KyPW_RGUc",
      "execution_count": 3,
      "outputs": [
        {
          "output_type": "stream",
          "name": "stdout",
          "text": [
            "Mounted at /content/drive\n"
          ]
        }
      ]
    },
    {
      "cell_type": "code",
      "execution_count": 4,
      "id": "e4069b3f",
      "metadata": {
        "vscode": {
          "languageId": "plaintext"
        },
        "colab": {
          "base_uri": "https://localhost:8080/"
        },
        "id": "e4069b3f",
        "outputId": "0ce1257d-8232-4254-f104-a83523968b1d"
      },
      "outputs": [
        {
          "output_type": "stream",
          "name": "stdout",
          "text": [
            "fatal: destination path 'dlaai_final_project' already exists and is not an empty directory.\n",
            "/content/dlaai_final_project/final_project\n"
          ]
        }
      ],
      "source": [
        "!git clone https://github.com/aiman01nad/dlaai_final_project\n",
        "%cd dlaai_final_project/final_project"
      ]
    },
    {
      "cell_type": "code",
      "source": [
        "!pip install -r requirements.txt"
      ],
      "metadata": {
        "colab": {
          "base_uri": "https://localhost:8080/"
        },
        "id": "gVLpPzlHREai",
        "outputId": "5017ebb6-5bb0-4cf0-f68a-56c47debfe94",
        "collapsed": true
      },
      "id": "gVLpPzlHREai",
      "execution_count": 5,
      "outputs": [
        {
          "output_type": "stream",
          "name": "stdout",
          "text": [
            "Requirement already satisfied: lightning>=2.5.1.post0 in /usr/local/lib/python3.11/dist-packages (from -r requirements.txt (line 1)) (2.5.1.post0)\n",
            "Requirement already satisfied: matplotlib>=3.10.3 in /usr/local/lib/python3.11/dist-packages (from -r requirements.txt (line 2)) (3.10.3)\n",
            "Requirement already satisfied: numpy==1.24.4 in /usr/local/lib/python3.11/dist-packages (from -r requirements.txt (line 3)) (1.24.4)\n",
            "Requirement already satisfied: scikit-learn>=1.6.1 in /usr/local/lib/python3.11/dist-packages (from -r requirements.txt (line 4)) (1.6.1)\n",
            "Requirement already satisfied: scikit-learn-extra>=0.3.0 in /usr/local/lib/python3.11/dist-packages (from -r requirements.txt (line 5)) (0.3.0)\n",
            "Requirement already satisfied: seaborn>=0.13.2 in /usr/local/lib/python3.11/dist-packages (from -r requirements.txt (line 6)) (0.13.2)\n",
            "Requirement already satisfied: torch>=2.7.0 in /usr/local/lib/python3.11/dist-packages (from -r requirements.txt (line 7)) (2.7.0)\n",
            "Requirement already satisfied: torchvision>=0.22.0 in /usr/local/lib/python3.11/dist-packages (from -r requirements.txt (line 8)) (0.22.0)\n",
            "Requirement already satisfied: PyYAML<8.0,>=5.4 in /usr/local/lib/python3.11/dist-packages (from lightning>=2.5.1.post0->-r requirements.txt (line 1)) (6.0.2)\n",
            "Requirement already satisfied: fsspec<2026.0,>=2022.5.0 in /usr/local/lib/python3.11/dist-packages (from fsspec[http]<2026.0,>=2022.5.0->lightning>=2.5.1.post0->-r requirements.txt (line 1)) (2025.3.2)\n",
            "Requirement already satisfied: lightning-utilities<2.0,>=0.10.0 in /usr/local/lib/python3.11/dist-packages (from lightning>=2.5.1.post0->-r requirements.txt (line 1)) (0.14.3)\n",
            "Requirement already satisfied: packaging<25.0,>=20.0 in /usr/local/lib/python3.11/dist-packages (from lightning>=2.5.1.post0->-r requirements.txt (line 1)) (24.2)\n",
            "Requirement already satisfied: torchmetrics<3.0,>=0.7.0 in /usr/local/lib/python3.11/dist-packages (from lightning>=2.5.1.post0->-r requirements.txt (line 1)) (1.7.1)\n",
            "Requirement already satisfied: tqdm<6.0,>=4.57.0 in /usr/local/lib/python3.11/dist-packages (from lightning>=2.5.1.post0->-r requirements.txt (line 1)) (4.67.1)\n",
            "Requirement already satisfied: typing-extensions<6.0,>=4.4.0 in /usr/local/lib/python3.11/dist-packages (from lightning>=2.5.1.post0->-r requirements.txt (line 1)) (4.13.2)\n",
            "Requirement already satisfied: pytorch-lightning in /usr/local/lib/python3.11/dist-packages (from lightning>=2.5.1.post0->-r requirements.txt (line 1)) (2.5.1.post0)\n",
            "Requirement already satisfied: contourpy>=1.0.1 in /usr/local/lib/python3.11/dist-packages (from matplotlib>=3.10.3->-r requirements.txt (line 2)) (1.3.2)\n",
            "Requirement already satisfied: cycler>=0.10 in /usr/local/lib/python3.11/dist-packages (from matplotlib>=3.10.3->-r requirements.txt (line 2)) (0.12.1)\n",
            "Requirement already satisfied: fonttools>=4.22.0 in /usr/local/lib/python3.11/dist-packages (from matplotlib>=3.10.3->-r requirements.txt (line 2)) (4.58.0)\n",
            "Requirement already satisfied: kiwisolver>=1.3.1 in /usr/local/lib/python3.11/dist-packages (from matplotlib>=3.10.3->-r requirements.txt (line 2)) (1.4.8)\n",
            "Requirement already satisfied: pillow>=8 in /usr/local/lib/python3.11/dist-packages (from matplotlib>=3.10.3->-r requirements.txt (line 2)) (11.2.1)\n",
            "Requirement already satisfied: pyparsing>=2.3.1 in /usr/local/lib/python3.11/dist-packages (from matplotlib>=3.10.3->-r requirements.txt (line 2)) (3.2.3)\n",
            "Requirement already satisfied: python-dateutil>=2.7 in /usr/local/lib/python3.11/dist-packages (from matplotlib>=3.10.3->-r requirements.txt (line 2)) (2.9.0.post0)\n",
            "Requirement already satisfied: scipy>=1.6.0 in /usr/local/lib/python3.11/dist-packages (from scikit-learn>=1.6.1->-r requirements.txt (line 4)) (1.15.3)\n",
            "Requirement already satisfied: joblib>=1.2.0 in /usr/local/lib/python3.11/dist-packages (from scikit-learn>=1.6.1->-r requirements.txt (line 4)) (1.5.0)\n",
            "Requirement already satisfied: threadpoolctl>=3.1.0 in /usr/local/lib/python3.11/dist-packages (from scikit-learn>=1.6.1->-r requirements.txt (line 4)) (3.6.0)\n",
            "Requirement already satisfied: pandas>=1.2 in /usr/local/lib/python3.11/dist-packages (from seaborn>=0.13.2->-r requirements.txt (line 6)) (2.2.2)\n",
            "Requirement already satisfied: filelock in /usr/local/lib/python3.11/dist-packages (from torch>=2.7.0->-r requirements.txt (line 7)) (3.18.0)\n",
            "Requirement already satisfied: sympy>=1.13.3 in /usr/local/lib/python3.11/dist-packages (from torch>=2.7.0->-r requirements.txt (line 7)) (1.14.0)\n",
            "Requirement already satisfied: networkx in /usr/local/lib/python3.11/dist-packages (from torch>=2.7.0->-r requirements.txt (line 7)) (3.4.2)\n",
            "Requirement already satisfied: jinja2 in /usr/local/lib/python3.11/dist-packages (from torch>=2.7.0->-r requirements.txt (line 7)) (3.1.6)\n",
            "Requirement already satisfied: nvidia-cuda-nvrtc-cu12==12.6.77 in /usr/local/lib/python3.11/dist-packages (from torch>=2.7.0->-r requirements.txt (line 7)) (12.6.77)\n",
            "Requirement already satisfied: nvidia-cuda-runtime-cu12==12.6.77 in /usr/local/lib/python3.11/dist-packages (from torch>=2.7.0->-r requirements.txt (line 7)) (12.6.77)\n",
            "Requirement already satisfied: nvidia-cuda-cupti-cu12==12.6.80 in /usr/local/lib/python3.11/dist-packages (from torch>=2.7.0->-r requirements.txt (line 7)) (12.6.80)\n",
            "Requirement already satisfied: nvidia-cudnn-cu12==9.5.1.17 in /usr/local/lib/python3.11/dist-packages (from torch>=2.7.0->-r requirements.txt (line 7)) (9.5.1.17)\n",
            "Requirement already satisfied: nvidia-cublas-cu12==12.6.4.1 in /usr/local/lib/python3.11/dist-packages (from torch>=2.7.0->-r requirements.txt (line 7)) (12.6.4.1)\n",
            "Requirement already satisfied: nvidia-cufft-cu12==11.3.0.4 in /usr/local/lib/python3.11/dist-packages (from torch>=2.7.0->-r requirements.txt (line 7)) (11.3.0.4)\n",
            "Requirement already satisfied: nvidia-curand-cu12==10.3.7.77 in /usr/local/lib/python3.11/dist-packages (from torch>=2.7.0->-r requirements.txt (line 7)) (10.3.7.77)\n",
            "Requirement already satisfied: nvidia-cusolver-cu12==11.7.1.2 in /usr/local/lib/python3.11/dist-packages (from torch>=2.7.0->-r requirements.txt (line 7)) (11.7.1.2)\n",
            "Requirement already satisfied: nvidia-cusparse-cu12==12.5.4.2 in /usr/local/lib/python3.11/dist-packages (from torch>=2.7.0->-r requirements.txt (line 7)) (12.5.4.2)\n",
            "Requirement already satisfied: nvidia-cusparselt-cu12==0.6.3 in /usr/local/lib/python3.11/dist-packages (from torch>=2.7.0->-r requirements.txt (line 7)) (0.6.3)\n",
            "Requirement already satisfied: nvidia-nccl-cu12==2.26.2 in /usr/local/lib/python3.11/dist-packages (from torch>=2.7.0->-r requirements.txt (line 7)) (2.26.2)\n",
            "Requirement already satisfied: nvidia-nvtx-cu12==12.6.77 in /usr/local/lib/python3.11/dist-packages (from torch>=2.7.0->-r requirements.txt (line 7)) (12.6.77)\n",
            "Requirement already satisfied: nvidia-nvjitlink-cu12==12.6.85 in /usr/local/lib/python3.11/dist-packages (from torch>=2.7.0->-r requirements.txt (line 7)) (12.6.85)\n",
            "Requirement already satisfied: nvidia-cufile-cu12==1.11.1.6 in /usr/local/lib/python3.11/dist-packages (from torch>=2.7.0->-r requirements.txt (line 7)) (1.11.1.6)\n",
            "Requirement already satisfied: triton==3.3.0 in /usr/local/lib/python3.11/dist-packages (from torch>=2.7.0->-r requirements.txt (line 7)) (3.3.0)\n",
            "Requirement already satisfied: setuptools>=40.8.0 in /usr/local/lib/python3.11/dist-packages (from triton==3.3.0->torch>=2.7.0->-r requirements.txt (line 7)) (75.2.0)\n",
            "Requirement already satisfied: aiohttp!=4.0.0a0,!=4.0.0a1 in /usr/local/lib/python3.11/dist-packages (from fsspec[http]<2026.0,>=2022.5.0->lightning>=2.5.1.post0->-r requirements.txt (line 1)) (3.11.15)\n",
            "Requirement already satisfied: pytz>=2020.1 in /usr/local/lib/python3.11/dist-packages (from pandas>=1.2->seaborn>=0.13.2->-r requirements.txt (line 6)) (2025.2)\n",
            "Requirement already satisfied: tzdata>=2022.7 in /usr/local/lib/python3.11/dist-packages (from pandas>=1.2->seaborn>=0.13.2->-r requirements.txt (line 6)) (2025.2)\n",
            "Requirement already satisfied: six>=1.5 in /usr/local/lib/python3.11/dist-packages (from python-dateutil>=2.7->matplotlib>=3.10.3->-r requirements.txt (line 2)) (1.17.0)\n",
            "Requirement already satisfied: mpmath<1.4,>=1.1.0 in /usr/local/lib/python3.11/dist-packages (from sympy>=1.13.3->torch>=2.7.0->-r requirements.txt (line 7)) (1.3.0)\n",
            "Requirement already satisfied: MarkupSafe>=2.0 in /usr/local/lib/python3.11/dist-packages (from jinja2->torch>=2.7.0->-r requirements.txt (line 7)) (3.0.2)\n",
            "Requirement already satisfied: aiohappyeyeballs>=2.3.0 in /usr/local/lib/python3.11/dist-packages (from aiohttp!=4.0.0a0,!=4.0.0a1->fsspec[http]<2026.0,>=2022.5.0->lightning>=2.5.1.post0->-r requirements.txt (line 1)) (2.6.1)\n",
            "Requirement already satisfied: aiosignal>=1.1.2 in /usr/local/lib/python3.11/dist-packages (from aiohttp!=4.0.0a0,!=4.0.0a1->fsspec[http]<2026.0,>=2022.5.0->lightning>=2.5.1.post0->-r requirements.txt (line 1)) (1.3.2)\n",
            "Requirement already satisfied: attrs>=17.3.0 in /usr/local/lib/python3.11/dist-packages (from aiohttp!=4.0.0a0,!=4.0.0a1->fsspec[http]<2026.0,>=2022.5.0->lightning>=2.5.1.post0->-r requirements.txt (line 1)) (25.3.0)\n",
            "Requirement already satisfied: frozenlist>=1.1.1 in /usr/local/lib/python3.11/dist-packages (from aiohttp!=4.0.0a0,!=4.0.0a1->fsspec[http]<2026.0,>=2022.5.0->lightning>=2.5.1.post0->-r requirements.txt (line 1)) (1.6.0)\n",
            "Requirement already satisfied: multidict<7.0,>=4.5 in /usr/local/lib/python3.11/dist-packages (from aiohttp!=4.0.0a0,!=4.0.0a1->fsspec[http]<2026.0,>=2022.5.0->lightning>=2.5.1.post0->-r requirements.txt (line 1)) (6.4.3)\n",
            "Requirement already satisfied: propcache>=0.2.0 in /usr/local/lib/python3.11/dist-packages (from aiohttp!=4.0.0a0,!=4.0.0a1->fsspec[http]<2026.0,>=2022.5.0->lightning>=2.5.1.post0->-r requirements.txt (line 1)) (0.3.1)\n",
            "Requirement already satisfied: yarl<2.0,>=1.17.0 in /usr/local/lib/python3.11/dist-packages (from aiohttp!=4.0.0a0,!=4.0.0a1->fsspec[http]<2026.0,>=2022.5.0->lightning>=2.5.1.post0->-r requirements.txt (line 1)) (1.20.0)\n",
            "Requirement already satisfied: idna>=2.0 in /usr/local/lib/python3.11/dist-packages (from yarl<2.0,>=1.17.0->aiohttp!=4.0.0a0,!=4.0.0a1->fsspec[http]<2026.0,>=2022.5.0->lightning>=2.5.1.post0->-r requirements.txt (line 1)) (3.10)\n"
          ]
        }
      ]
    },
    {
      "cell_type": "code",
      "source": [
        "!git pull"
      ],
      "metadata": {
        "colab": {
          "base_uri": "https://localhost:8080/"
        },
        "id": "YQU2cdXjYcNl",
        "outputId": "608a68bf-0247-4a95-859e-6d2c4997a693"
      },
      "id": "YQU2cdXjYcNl",
      "execution_count": 17,
      "outputs": [
        {
          "output_type": "stream",
          "name": "stdout",
          "text": [
            "remote: Enumerating objects: 13, done.\u001b[K\n",
            "remote: Counting objects:   7% (1/13)\u001b[K\rremote: Counting objects:  15% (2/13)\u001b[K\rremote: Counting objects:  23% (3/13)\u001b[K\rremote: Counting objects:  30% (4/13)\u001b[K\rremote: Counting objects:  38% (5/13)\u001b[K\rremote: Counting objects:  46% (6/13)\u001b[K\rremote: Counting objects:  53% (7/13)\u001b[K\rremote: Counting objects:  61% (8/13)\u001b[K\rremote: Counting objects:  69% (9/13)\u001b[K\rremote: Counting objects:  76% (10/13)\u001b[K\rremote: Counting objects:  84% (11/13)\u001b[K\rremote: Counting objects:  92% (12/13)\u001b[K\rremote: Counting objects: 100% (13/13)\u001b[K\rremote: Counting objects: 100% (13/13), done.\u001b[K\n",
            "remote: Compressing objects: 100% (1/1)\u001b[K\rremote: Compressing objects: 100% (1/1), done.\u001b[K\n",
            "remote: Total 7 (delta 4), reused 7 (delta 4), pack-reused 0 (from 0)\u001b[K\n",
            "Unpacking objects:  14% (1/7)\rUnpacking objects:  28% (2/7)\rUnpacking objects:  42% (3/7)\rUnpacking objects:  57% (4/7)\rUnpacking objects:  71% (5/7)\rUnpacking objects:  85% (6/7)\rUnpacking objects: 100% (7/7)\rUnpacking objects: 100% (7/7), 869 bytes | 434.00 KiB/s, done.\n",
            "From https://github.com/aiman01nad/dlaai_final_project\n",
            "   073e4d3..3db8c71  modify_vae_latent_space -> origin/modify_vae_latent_space\n",
            "Updating 073e4d3..3db8c71\n",
            "Fast-forward\n",
            " final_project/src/final_project/train/train_vae.py | 33 \u001b[32m++++++++++++++++++\u001b[m\u001b[31m----\u001b[m\n",
            " 1 file changed, 28 insertions(+), 5 deletions(-)\n"
          ]
        }
      ]
    },
    {
      "cell_type": "code",
      "source": [
        "import torch\n",
        "print(\"CUDA available:\", torch.cuda.is_available())"
      ],
      "metadata": {
        "colab": {
          "base_uri": "https://localhost:8080/"
        },
        "id": "xhVfIYHrO-5Q",
        "outputId": "0912d85d-a232-49f0-8d93-b8a080052919"
      },
      "id": "xhVfIYHrO-5Q",
      "execution_count": 9,
      "outputs": [
        {
          "output_type": "stream",
          "name": "stdout",
          "text": [
            "CUDA available: True\n"
          ]
        }
      ]
    },
    {
      "cell_type": "code",
      "source": [
        "import sys\n",
        "sys.path.append(\"src\")"
      ],
      "metadata": {
        "id": "1pi-UdUCWHQL"
      },
      "id": "1pi-UdUCWHQL",
      "execution_count": 10,
      "outputs": []
    },
    {
      "cell_type": "code",
      "execution_count": 18,
      "id": "3097fa21",
      "metadata": {
        "vscode": {
          "languageId": "plaintext"
        },
        "colab": {
          "base_uri": "https://localhost:8080/"
        },
        "id": "3097fa21",
        "outputId": "6c0ddc01-9fc7-40b2-d6b8-24237c01d86d"
      },
      "outputs": [
        {
          "output_type": "stream",
          "name": "stdout",
          "text": [
            "Epoch 0 [0/60000] Loss: 74504.062500\n",
            "Epoch 0 [12800/60000] Loss: 25910.376953\n",
            "Epoch 0 [25600/60000] Loss: 24412.468750\n",
            "Epoch 0 [38400/60000] Loss: 23152.408203\n",
            "Epoch 0 [51200/60000] Loss: 21621.484375\n",
            "====> Epoch: 0 Average loss: 205.1787\n",
            "====> Validation Loss: 127.3108 | Recon: 69.4461 | KL: 57.8647\n",
            "Epoch 1 [0/60000] Loss: 21086.818359\n",
            "Epoch 1 [12800/60000] Loss: 19794.796875\n",
            "Epoch 1 [25600/60000] Loss: 18789.492188\n",
            "Epoch 1 [38400/60000] Loss: 18237.277344\n",
            "Epoch 1 [51200/60000] Loss: 17563.998047\n",
            "====> Epoch: 1 Average loss: 145.1190\n",
            "====> Validation Loss: 118.4956 | Recon: 64.6256 | KL: 53.8699\n",
            "Epoch 2 [0/60000] Loss: 18374.691406\n",
            "Epoch 2 [12800/60000] Loss: 17240.376953\n",
            "Epoch 2 [25600/60000] Loss: 17463.177734\n",
            "Epoch 2 [38400/60000] Loss: 17220.359375\n",
            "Epoch 2 [51200/60000] Loss: 17311.027344\n",
            "====> Epoch: 2 Average loss: 135.8411\n",
            "====> Validation Loss: 115.4208 | Recon: 63.0490 | KL: 52.3717\n",
            "Epoch 3 [0/60000] Loss: 17956.849609\n",
            "Epoch 3 [12800/60000] Loss: 17510.365234\n",
            "Epoch 3 [25600/60000] Loss: 16513.599609\n",
            "Epoch 3 [38400/60000] Loss: 16649.125000\n",
            "Epoch 3 [51200/60000] Loss: 17355.498047\n",
            "====> Epoch: 3 Average loss: 133.4939\n",
            "====> Validation Loss: 113.4047 | Recon: 62.5817 | KL: 50.8229\n",
            "Epoch 4 [0/60000] Loss: 16963.023438\n",
            "Epoch 4 [12800/60000] Loss: 16848.335938\n",
            "Epoch 4 [25600/60000] Loss: 16506.003906\n",
            "Epoch 4 [38400/60000] Loss: 16951.730469\n",
            "Epoch 4 [51200/60000] Loss: 16515.605469\n",
            "====> Epoch: 4 Average loss: 132.3378\n",
            "====> Validation Loss: 112.8110 | Recon: 62.7062 | KL: 50.1047\n",
            "Epoch 5 [0/60000] Loss: 16547.585938\n",
            "Epoch 5 [12800/60000] Loss: 17300.322266\n",
            "Epoch 5 [25600/60000] Loss: 16873.003906\n",
            "Epoch 5 [38400/60000] Loss: 16807.189453\n",
            "Epoch 5 [51200/60000] Loss: 16452.654297\n",
            "====> Epoch: 5 Average loss: 131.6017\n",
            "====> Validation Loss: 113.2395 | Recon: 62.3718 | KL: 50.8677\n",
            "Epoch 6 [0/60000] Loss: 17024.582031\n",
            "Epoch 6 [12800/60000] Loss: 16594.544922\n",
            "Epoch 6 [25600/60000] Loss: 16196.382812\n",
            "Epoch 6 [38400/60000] Loss: 16828.757812\n",
            "Epoch 6 [51200/60000] Loss: 16863.117188\n",
            "====> Epoch: 6 Average loss: 131.1024\n",
            "====> Validation Loss: 111.7790 | Recon: 62.3267 | KL: 49.4523\n",
            "Epoch 7 [0/60000] Loss: 16048.711914\n",
            "Epoch 7 [12800/60000] Loss: 16917.914062\n",
            "Epoch 7 [25600/60000] Loss: 17116.578125\n",
            "Epoch 7 [38400/60000] Loss: 17116.158203\n",
            "Epoch 7 [51200/60000] Loss: 16675.421875\n",
            "====> Epoch: 7 Average loss: 130.7368\n",
            "====> Validation Loss: 113.5659 | Recon: 62.4885 | KL: 51.0774\n",
            "Epoch 8 [0/60000] Loss: 17458.095703\n",
            "Epoch 8 [12800/60000] Loss: 16928.089844\n",
            "Epoch 8 [25600/60000] Loss: 16630.812500\n",
            "Epoch 8 [38400/60000] Loss: 16844.285156\n",
            "Epoch 8 [51200/60000] Loss: 16240.808594\n",
            "====> Epoch: 8 Average loss: 130.4292\n",
            "====> Validation Loss: 111.9549 | Recon: 62.7803 | KL: 49.1746\n",
            "Epoch 9 [0/60000] Loss: 16686.406250\n",
            "Epoch 9 [12800/60000] Loss: 16648.386719\n",
            "Epoch 9 [25600/60000] Loss: 16270.106445\n",
            "Epoch 9 [38400/60000] Loss: 16727.498047\n",
            "Epoch 9 [51200/60000] Loss: 16324.893555\n",
            "====> Epoch: 9 Average loss: 130.2029\n",
            "====> Validation Loss: 111.9274 | Recon: 62.2236 | KL: 49.7039\n",
            "Epoch 10 [0/60000] Loss: 16383.188477\n",
            "Epoch 10 [12800/60000] Loss: 16835.718750\n",
            "Epoch 10 [25600/60000] Loss: 16182.378906\n",
            "Epoch 10 [38400/60000] Loss: 16859.343750\n",
            "Epoch 10 [51200/60000] Loss: 16595.308594\n",
            "====> Epoch: 10 Average loss: 129.9277\n",
            "====> Validation Loss: 111.2008 | Recon: 62.0333 | KL: 49.1675\n",
            "Epoch 11 [0/60000] Loss: 15694.842773\n",
            "Epoch 11 [12800/60000] Loss: 16853.443359\n",
            "Epoch 11 [25600/60000] Loss: 16535.992188\n",
            "Epoch 11 [38400/60000] Loss: 16384.242188\n",
            "Epoch 11 [51200/60000] Loss: 17032.644531\n",
            "====> Epoch: 11 Average loss: 129.7415\n",
            "====> Validation Loss: 112.9898 | Recon: 62.3850 | KL: 50.6048\n",
            "Epoch 12 [0/60000] Loss: 16825.382812\n",
            "Epoch 12 [12800/60000] Loss: 16473.484375\n",
            "Epoch 12 [25600/60000] Loss: 16694.804688\n",
            "Epoch 12 [38400/60000] Loss: 16692.369141\n",
            "Epoch 12 [51200/60000] Loss: 16873.609375\n",
            "====> Epoch: 12 Average loss: 129.6013\n",
            "====> Validation Loss: 112.0755 | Recon: 62.1731 | KL: 49.9024\n",
            "Epoch 13 [0/60000] Loss: 16785.794922\n",
            "Epoch 13 [12800/60000] Loss: 16283.708984\n",
            "Epoch 13 [25600/60000] Loss: 17233.875000\n",
            "Epoch 13 [38400/60000] Loss: 16630.953125\n",
            "Epoch 13 [51200/60000] Loss: 17139.041016\n",
            "====> Epoch: 13 Average loss: 129.5211\n",
            "====> Validation Loss: 112.3420 | Recon: 61.9069 | KL: 50.4351\n",
            "Epoch 14 [0/60000] Loss: 16832.630859\n",
            "Epoch 14 [12800/60000] Loss: 15982.552734\n",
            "Epoch 14 [25600/60000] Loss: 16017.700195\n",
            "Epoch 14 [38400/60000] Loss: 16365.850586\n",
            "Epoch 14 [51200/60000] Loss: 16610.626953\n",
            "====> Epoch: 14 Average loss: 129.3255\n",
            "====> Validation Loss: 111.4104 | Recon: 61.9842 | KL: 49.4263\n",
            "Epoch 15 [0/60000] Loss: 16831.570312\n",
            "Epoch 15 [12800/60000] Loss: 16631.386719\n",
            "Epoch 15 [25600/60000] Loss: 16390.625000\n",
            "Epoch 15 [38400/60000] Loss: 16936.113281\n",
            "Epoch 15 [51200/60000] Loss: 16706.277344\n",
            "====> Epoch: 15 Average loss: 129.1981\n",
            "====> Validation Loss: 110.3555 | Recon: 61.7764 | KL: 48.5791\n",
            "Epoch 16 [0/60000] Loss: 15670.406250\n",
            "Epoch 16 [12800/60000] Loss: 16246.631836\n",
            "Epoch 16 [25600/60000] Loss: 16773.746094\n",
            "Epoch 16 [38400/60000] Loss: 16347.628906\n",
            "Epoch 16 [51200/60000] Loss: 16146.698242\n",
            "====> Epoch: 16 Average loss: 129.1589\n",
            "====> Validation Loss: 112.0762 | Recon: 61.6511 | KL: 50.4251\n",
            "Epoch 17 [0/60000] Loss: 16322.166016\n",
            "Epoch 17 [12800/60000] Loss: 16951.900391\n",
            "Epoch 17 [25600/60000] Loss: 16809.406250\n",
            "Epoch 17 [38400/60000] Loss: 16831.677734\n",
            "Epoch 17 [51200/60000] Loss: 16705.023438\n",
            "====> Epoch: 17 Average loss: 128.9722\n",
            "====> Validation Loss: 111.6110 | Recon: 61.7288 | KL: 49.8822\n",
            "Epoch 18 [0/60000] Loss: 16441.326172\n",
            "Epoch 18 [12800/60000] Loss: 16506.847656\n",
            "Epoch 18 [25600/60000] Loss: 16256.807617\n",
            "Epoch 18 [38400/60000] Loss: 16147.072266\n",
            "Epoch 18 [51200/60000] Loss: 16803.457031\n",
            "====> Epoch: 18 Average loss: 128.8346\n",
            "====> Validation Loss: 111.7825 | Recon: 61.8529 | KL: 49.9296\n",
            "Epoch 19 [0/60000] Loss: 16629.818359\n",
            "Epoch 19 [12800/60000] Loss: 16399.070312\n",
            "Epoch 19 [25600/60000] Loss: 16559.548828\n",
            "Epoch 19 [38400/60000] Loss: 16385.777344\n",
            "Epoch 19 [51200/60000] Loss: 15862.276367\n",
            "====> Epoch: 19 Average loss: 128.8229\n",
            "====> Validation Loss: 111.9820 | Recon: 61.6907 | KL: 50.2913\n",
            "Epoch 20 [0/60000] Loss: 16296.701172\n",
            "Epoch 20 [12800/60000] Loss: 15983.847656\n",
            "Epoch 20 [25600/60000] Loss: 15748.034180\n",
            "Epoch 20 [38400/60000] Loss: 16587.433594\n",
            "Epoch 20 [51200/60000] Loss: 16705.810547\n",
            "====> Epoch: 20 Average loss: 128.7558\n",
            "====> Validation Loss: 110.3431 | Recon: 61.9231 | KL: 48.4201\n",
            "Epoch 21 [0/60000] Loss: 16315.837891\n",
            "Epoch 21 [12800/60000] Loss: 15978.498047\n",
            "Epoch 21 [25600/60000] Loss: 16384.539062\n",
            "Epoch 21 [38400/60000] Loss: 16630.253906\n",
            "Epoch 21 [51200/60000] Loss: 16602.166016\n",
            "====> Epoch: 21 Average loss: 128.6356\n",
            "====> Validation Loss: 110.7000 | Recon: 61.7435 | KL: 48.9565\n",
            "Epoch 22 [0/60000] Loss: 16405.128906\n",
            "Epoch 22 [12800/60000] Loss: 17179.986328\n",
            "Epoch 22 [25600/60000] Loss: 16034.023438\n",
            "Epoch 22 [38400/60000] Loss: 16685.291016\n",
            "Epoch 22 [51200/60000] Loss: 16347.244141\n",
            "====> Epoch: 22 Average loss: 128.6563\n",
            "====> Validation Loss: 111.2257 | Recon: 61.6447 | KL: 49.5809\n",
            "Epoch 23 [0/60000] Loss: 16449.806641\n",
            "Epoch 23 [12800/60000] Loss: 16170.257812\n",
            "Epoch 23 [25600/60000] Loss: 16311.214844\n",
            "Epoch 23 [38400/60000] Loss: 16804.087891\n",
            "Epoch 23 [51200/60000] Loss: 16865.542969\n",
            "====> Epoch: 23 Average loss: 128.6041\n",
            "====> Validation Loss: 111.7248 | Recon: 61.7226 | KL: 50.0022\n",
            "Epoch 24 [0/60000] Loss: 17194.878906\n",
            "Epoch 24 [12800/60000] Loss: 15976.477539\n",
            "Epoch 24 [25600/60000] Loss: 16465.785156\n",
            "Epoch 24 [38400/60000] Loss: 16975.324219\n",
            "Epoch 24 [51200/60000] Loss: 16444.128906\n",
            "====> Epoch: 24 Average loss: 128.5024\n",
            "====> Validation Loss: 110.0376 | Recon: 61.8537 | KL: 48.1839\n",
            "Epoch 25 [0/60000] Loss: 16184.541992\n",
            "Epoch 25 [12800/60000] Loss: 16754.339844\n",
            "Epoch 25 [25600/60000] Loss: 16766.455078\n",
            "Epoch 25 [38400/60000] Loss: 17166.587891\n",
            "Epoch 25 [51200/60000] Loss: 16709.148438\n",
            "====> Epoch: 25 Average loss: 128.4423\n",
            "====> Validation Loss: 110.6276 | Recon: 61.4755 | KL: 49.1520\n",
            "Epoch 26 [0/60000] Loss: 16512.083984\n",
            "Epoch 26 [12800/60000] Loss: 16785.613281\n",
            "Epoch 26 [25600/60000] Loss: 16545.662109\n",
            "Epoch 26 [38400/60000] Loss: 16363.514648\n",
            "Epoch 26 [51200/60000] Loss: 16743.337891\n",
            "====> Epoch: 26 Average loss: 128.3768\n",
            "====> Validation Loss: 111.1866 | Recon: 61.6976 | KL: 49.4891\n",
            "Epoch 27 [0/60000] Loss: 16700.076172\n",
            "Epoch 27 [12800/60000] Loss: 16231.352539\n",
            "Epoch 27 [25600/60000] Loss: 16434.207031\n",
            "Epoch 27 [38400/60000] Loss: 16947.263672\n",
            "Epoch 27 [51200/60000] Loss: 16168.679688\n",
            "====> Epoch: 27 Average loss: 128.3577\n",
            "====> Validation Loss: 111.1064 | Recon: 61.4642 | KL: 49.6422\n",
            "Epoch 28 [0/60000] Loss: 16717.585938\n",
            "Epoch 28 [12800/60000] Loss: 16604.568359\n",
            "Epoch 28 [25600/60000] Loss: 16290.232422\n",
            "Epoch 28 [38400/60000] Loss: 16716.960938\n",
            "Epoch 28 [51200/60000] Loss: 16442.476562\n",
            "====> Epoch: 28 Average loss: 128.2990\n",
            "====> Validation Loss: 109.8385 | Recon: 61.8835 | KL: 47.9550\n",
            "Epoch 29 [0/60000] Loss: 16271.121094\n",
            "Epoch 29 [12800/60000] Loss: 16290.599609\n",
            "Epoch 29 [25600/60000] Loss: 16321.132812\n",
            "Epoch 29 [38400/60000] Loss: 16390.910156\n",
            "Epoch 29 [51200/60000] Loss: 16232.937500\n",
            "====> Epoch: 29 Average loss: 128.2831\n",
            "====> Validation Loss: 110.9290 | Recon: 61.5486 | KL: 49.3804\n",
            "Epoch 30 [0/60000] Loss: 16141.662109\n",
            "Epoch 30 [12800/60000] Loss: 16146.353516\n",
            "Epoch 30 [25600/60000] Loss: 16595.939453\n",
            "Epoch 30 [38400/60000] Loss: 16414.505859\n",
            "Epoch 30 [51200/60000] Loss: 16422.568359\n",
            "====> Epoch: 30 Average loss: 128.2308\n",
            "====> Validation Loss: 109.7078 | Recon: 61.5368 | KL: 48.1710\n",
            "Epoch 31 [0/60000] Loss: 16931.552734\n",
            "Epoch 31 [12800/60000] Loss: 16596.523438\n",
            "Epoch 31 [25600/60000] Loss: 15664.308594\n",
            "Epoch 31 [38400/60000] Loss: 15947.419922\n",
            "Epoch 31 [51200/60000] Loss: 16070.480469\n",
            "====> Epoch: 31 Average loss: 128.2295\n",
            "====> Validation Loss: 111.2973 | Recon: 61.4005 | KL: 49.8968\n",
            "Epoch 32 [0/60000] Loss: 16567.312500\n",
            "Epoch 32 [12800/60000] Loss: 16353.855469\n",
            "Epoch 32 [25600/60000] Loss: 16965.814453\n",
            "Epoch 32 [38400/60000] Loss: 16337.683594\n",
            "Epoch 32 [51200/60000] Loss: 16416.707031\n",
            "====> Epoch: 32 Average loss: 128.1633\n",
            "====> Validation Loss: 109.1330 | Recon: 61.4256 | KL: 47.7074\n",
            "Epoch 33 [0/60000] Loss: 16485.763672\n",
            "Epoch 33 [12800/60000] Loss: 16195.493164\n",
            "Epoch 33 [25600/60000] Loss: 16674.029297\n",
            "Epoch 33 [38400/60000] Loss: 15963.166016\n",
            "Epoch 33 [51200/60000] Loss: 16182.386719\n",
            "====> Epoch: 33 Average loss: 128.2040\n",
            "====> Validation Loss: 109.1936 | Recon: 61.6024 | KL: 47.5913\n",
            "Epoch 34 [0/60000] Loss: 16699.675781\n",
            "Epoch 34 [12800/60000] Loss: 16499.908203\n",
            "Epoch 34 [25600/60000] Loss: 16280.792969\n",
            "Epoch 34 [38400/60000] Loss: 16940.544922\n",
            "Epoch 34 [51200/60000] Loss: 16076.366211\n",
            "====> Epoch: 34 Average loss: 128.0449\n",
            "====> Validation Loss: 109.8980 | Recon: 61.4921 | KL: 48.4059\n",
            "Epoch 35 [0/60000] Loss: 16258.350586\n",
            "Epoch 35 [12800/60000] Loss: 16159.860352\n",
            "Epoch 35 [25600/60000] Loss: 16126.202148\n",
            "Epoch 35 [38400/60000] Loss: 15691.908203\n",
            "Epoch 35 [51200/60000] Loss: 16267.732422\n",
            "====> Epoch: 35 Average loss: 128.1240\n",
            "====> Validation Loss: 112.3495 | Recon: 61.4561 | KL: 50.8934\n",
            "Epoch 36 [0/60000] Loss: 16718.599609\n",
            "Epoch 36 [12800/60000] Loss: 16031.314453\n",
            "Epoch 36 [25600/60000] Loss: 16636.527344\n",
            "Epoch 36 [38400/60000] Loss: 16065.975586\n",
            "Epoch 36 [51200/60000] Loss: 16318.284180\n",
            "====> Epoch: 36 Average loss: 128.0610\n",
            "====> Validation Loss: 111.8129 | Recon: 61.5872 | KL: 50.2257\n",
            "Epoch 37 [0/60000] Loss: 16407.544922\n",
            "Epoch 37 [12800/60000] Loss: 16432.476562\n",
            "Epoch 37 [25600/60000] Loss: 16320.449219\n",
            "Epoch 37 [38400/60000] Loss: 15816.506836\n",
            "Epoch 37 [51200/60000] Loss: 15909.802734\n",
            "====> Epoch: 37 Average loss: 128.1041\n",
            "====> Validation Loss: 112.1064 | Recon: 61.2428 | KL: 50.8636\n",
            "Epoch 38 [0/60000] Loss: 16553.988281\n",
            "Epoch 38 [12800/60000] Loss: 16133.800781\n",
            "Epoch 38 [25600/60000] Loss: 16301.342773\n",
            "Epoch 38 [38400/60000] Loss: 16859.646484\n",
            "Epoch 38 [51200/60000] Loss: 16204.171875\n",
            "====> Epoch: 38 Average loss: 128.0489\n",
            "====> Validation Loss: 110.2918 | Recon: 61.2815 | KL: 49.0102\n",
            "Epoch 39 [0/60000] Loss: 16517.695312\n",
            "Epoch 39 [12800/60000] Loss: 16664.617188\n",
            "Epoch 39 [25600/60000] Loss: 16227.436523\n",
            "Epoch 39 [38400/60000] Loss: 16379.648438\n",
            "Epoch 39 [51200/60000] Loss: 16320.264648\n",
            "====> Epoch: 39 Average loss: 128.0826\n",
            "====> Validation Loss: 110.2595 | Recon: 61.4592 | KL: 48.8003\n",
            "Model saved to /content/dlaai_final_project/final_project/src/final_project/checkpoints/vae.pth\n"
          ]
        }
      ],
      "source": [
        "!PYTHONPATH=src python src/final_project/train/train_vae.py"
      ]
    }
  ],
  "metadata": {
    "language_info": {
      "name": "python"
    },
    "colab": {
      "provenance": [],
      "gpuType": "T4"
    },
    "kernelspec": {
      "name": "python3",
      "display_name": "Python 3"
    },
    "accelerator": "GPU"
  },
  "nbformat": 4,
  "nbformat_minor": 5
}