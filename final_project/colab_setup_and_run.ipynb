{
  "cells": [
    {
      "cell_type": "code",
      "source": [
        "from google.colab import drive\n",
        "drive.mount(\"/content/drive\", force_remount=True)"
      ],
      "metadata": {
        "colab": {
          "base_uri": "https://localhost:8080/"
        },
        "id": "R09KyPW_RGUc",
        "outputId": "8d558f68-4ba8-4fa1-c598-53d09d800e6e"
      },
      "id": "R09KyPW_RGUc",
      "execution_count": 1,
      "outputs": [
        {
          "output_type": "stream",
          "name": "stdout",
          "text": [
            "Mounted at /content/drive\n"
          ]
        }
      ]
    },
    {
      "cell_type": "code",
      "execution_count": 2,
      "id": "e4069b3f",
      "metadata": {
        "vscode": {
          "languageId": "plaintext"
        },
        "colab": {
          "base_uri": "https://localhost:8080/"
        },
        "id": "e4069b3f",
        "outputId": "857eaf1f-46cb-4d96-8933-35526e242c7e"
      },
      "outputs": [
        {
          "output_type": "stream",
          "name": "stdout",
          "text": [
            "Cloning into 'dlaai_final_project'...\n",
            "remote: Enumerating objects: 685, done.\u001b[K\n",
            "remote: Counting objects: 100% (123/123), done.\u001b[K\n",
            "remote: Compressing objects: 100% (67/67), done.\u001b[K\n",
            "remote: Total 685 (delta 39), reused 85 (delta 34), pack-reused 562 (from 1)\u001b[K\n",
            "Receiving objects: 100% (685/685), 24.82 MiB | 37.99 MiB/s, done.\n",
            "Resolving deltas: 100% (269/269), done.\n",
            "/content/dlaai_final_project/final_project\n"
          ]
        }
      ],
      "source": [
        "!git clone https://github.com/aiman01nad/dlaai_final_project\n",
        "%cd dlaai_final_project/final_project"
      ]
    },
    {
      "cell_type": "code",
      "source": [
        "!pip install -r requirements.txt"
      ],
      "metadata": {
        "id": "PfQKNvsgZbx1"
      },
      "id": "PfQKNvsgZbx1",
      "execution_count": null,
      "outputs": []
    },
    {
      "cell_type": "code",
      "source": [
        "!git pull"
      ],
      "metadata": {
        "colab": {
          "base_uri": "https://localhost:8080/"
        },
        "id": "YQU2cdXjYcNl",
        "outputId": "51e2a850-bbe9-4c63-b5d5-83fe6299066c"
      },
      "id": "YQU2cdXjYcNl",
      "execution_count": null,
      "outputs": [
        {
          "output_type": "stream",
          "name": "stdout",
          "text": [
            "Updating f2345f7..a6a633e\n",
            "Fast-forward\n",
            " final_project/pyproject.toml                        |  1 \u001b[32m+\u001b[m\n",
            " final_project/src/final_project/data/mnist.py       | 15 \u001b[32m+++++++++\u001b[m\u001b[31m------\u001b[m\n",
            " .../src/final_project/train/train_vqvae.py          | 21 \u001b[32m+++++++++++++++++\u001b[m\u001b[31m----\u001b[m\n",
            " 3 files changed, 27 insertions(+), 10 deletions(-)\n"
          ]
        }
      ]
    },
    {
      "cell_type": "code",
      "source": [
        "import torch\n",
        "print(\"CUDA available:\", torch.cuda.is_available())"
      ],
      "metadata": {
        "colab": {
          "base_uri": "https://localhost:8080/"
        },
        "id": "xhVfIYHrO-5Q",
        "outputId": "2fdd6702-8bdc-435a-ac10-143e9350d465"
      },
      "id": "xhVfIYHrO-5Q",
      "execution_count": 3,
      "outputs": [
        {
          "output_type": "stream",
          "name": "stdout",
          "text": [
            "CUDA available: True\n"
          ]
        }
      ]
    },
    {
      "cell_type": "code",
      "source": [
        "import sys\n",
        "sys.path.append(\"src\")"
      ],
      "metadata": {
        "id": "1pi-UdUCWHQL"
      },
      "id": "1pi-UdUCWHQL",
      "execution_count": 4,
      "outputs": []
    },
    {
      "cell_type": "code",
      "execution_count": 7,
      "id": "3097fa21",
      "metadata": {
        "vscode": {
          "languageId": "plaintext"
        },
        "colab": {
          "base_uri": "https://localhost:8080/"
        },
        "id": "3097fa21",
        "outputId": "17d9b578-cbf2-48ab-bf18-4f6bcafe009b"
      },
      "outputs": [
        {
          "output_type": "stream",
          "name": "stdout",
          "text": [
            "100% 9.91M/9.91M [00:00<00:00, 17.7MB/s]\n",
            "100% 28.9k/28.9k [00:00<00:00, 476kB/s]\n",
            "100% 1.65M/1.65M [00:00<00:00, 4.49MB/s]\n",
            "100% 4.54k/4.54k [00:00<00:00, 14.5MB/s]\n",
            "GPU available: True (cuda), used: True\n",
            "TPU available: False, using: 0 TPU cores\n",
            "HPU available: False, using: 0 HPUs\n",
            "2025-05-27 10:58:18.158878: E external/local_xla/xla/stream_executor/cuda/cuda_fft.cc:477] Unable to register cuFFT factory: Attempting to register factory for plugin cuFFT when one has already been registered\n",
            "WARNING: All log messages before absl::InitializeLog() is called are written to STDERR\n",
            "E0000 00:00:1748343498.411615    1626 cuda_dnn.cc:8310] Unable to register cuDNN factory: Attempting to register factory for plugin cuDNN when one has already been registered\n",
            "E0000 00:00:1748343498.500749    1626 cuda_blas.cc:1418] Unable to register cuBLAS factory: Attempting to register factory for plugin cuBLAS when one has already been registered\n",
            "2025-05-27 10:58:19.055337: I tensorflow/core/platform/cpu_feature_guard.cc:210] This TensorFlow binary is optimized to use available CPU instructions in performance-critical operations.\n",
            "To enable the following instructions: AVX2 FMA, in other operations, rebuild TensorFlow with the appropriate compiler flags.\n",
            "LOCAL_RANK: 0 - CUDA_VISIBLE_DEVICES: [0]\n",
            "\n",
            "  | Name  | Type | Params | Mode \n",
            "---------------------------------------\n",
            "0 | model | VAE  | 143 K  | train\n",
            "---------------------------------------\n",
            "143 K     Trainable params\n",
            "0         Non-trainable params\n",
            "143 K     Total params\n",
            "0.575     Total estimated model params size (MB)\n",
            "11        Modules in train mode\n",
            "0         Modules in eval mode\n",
            "Epoch 0: 100% 391/391 [00:09<00:00, 39.77it/s, v_num=0, train_loss_step=1.33e+4, train_recon_step=8.57e+3, train_kl_step=4.75e+3]\n",
            "Validation: |          | 0/? [00:00<?, ?it/s]\u001b[A\n",
            "Validation:   0% 0/79 [00:00<?, ?it/s]       \u001b[A\n",
            "Validation DataLoader 0:   0% 0/79 [00:00<?, ?it/s]\u001b[A\n",
            "Validation DataLoader 0:  25% 20/79 [00:00<00:00, 69.35it/s]\u001b[A\n",
            "Validation DataLoader 0:  51% 40/79 [00:00<00:00, 70.78it/s]\u001b[A\n",
            "Validation DataLoader 0:  76% 60/79 [00:00<00:00, 70.94it/s]\u001b[A\n",
            "Validation DataLoader 0: 100% 79/79 [00:01<00:00, 69.24it/s]\u001b[A\n",
            "Epoch 1: 100% 391/391 [00:09<00:00, 42.55it/s, v_num=0, train_loss_step=1.15e+4, train_recon_step=7.26e+3, train_kl_step=4.22e+3, val_loss=1.69e+4, val_recon=9.32e+3, val_kl=7.55e+3, train_loss_epoch=2.72e+4, train_recon_epoch=2.05e+4, train_kl_epoch=6.77e+3]\n",
            "Validation: |          | 0/? [00:00<?, ?it/s]\u001b[A\n",
            "Validation:   0% 0/79 [00:00<?, ?it/s]       \u001b[A\n",
            "Validation DataLoader 0:   0% 0/79 [00:00<?, ?it/s]\u001b[A\n",
            "Validation DataLoader 0:  25% 20/79 [00:00<00:00, 72.38it/s]\u001b[A\n",
            "Validation DataLoader 0:  51% 40/79 [00:00<00:00, 57.06it/s]\u001b[A\n",
            "Validation DataLoader 0:  76% 60/79 [00:01<00:00, 59.42it/s]\u001b[A\n",
            "Validation DataLoader 0: 100% 79/79 [00:01<00:00, 62.48it/s]\u001b[A\n",
            "Epoch 2: 100% 391/391 [00:09<00:00, 42.27it/s, v_num=0, train_loss_step=1.08e+4, train_recon_step=6.71e+3, train_kl_step=4.12e+3, val_loss=1.49e+4, val_recon=8.31e+3, val_kl=6.6e+3, train_loss_epoch=1.92e+4, train_recon_epoch=1.21e+4, train_kl_epoch=7.15e+3]\n",
            "Validation: |          | 0/? [00:00<?, ?it/s]\u001b[A\n",
            "Validation:   0% 0/79 [00:00<?, ?it/s]       \u001b[A\n",
            "Validation DataLoader 0:   0% 0/79 [00:00<?, ?it/s]\u001b[A\n",
            "Validation DataLoader 0:  25% 20/79 [00:00<00:00, 71.48it/s]\u001b[A\n",
            "Validation DataLoader 0:  51% 40/79 [00:00<00:00, 70.05it/s]\u001b[A\n",
            "Validation DataLoader 0:  76% 60/79 [00:00<00:00, 70.19it/s]\u001b[A\n",
            "Validation DataLoader 0: 100% 79/79 [00:01<00:00, 70.37it/s]\u001b[A\n",
            "Epoch 3: 100% 391/391 [00:08<00:00, 45.48it/s, v_num=0, train_loss_step=1.12e+4, train_recon_step=7.01e+3, train_kl_step=4.19e+3, val_loss=1.48e+4, val_recon=8.23e+3, val_kl=6.57e+3, train_loss_epoch=1.76e+4, train_recon_epoch=1.1e+4, train_kl_epoch=6.65e+3]\n",
            "Validation: |          | 0/? [00:00<?, ?it/s]\u001b[A\n",
            "Validation:   0% 0/79 [00:00<?, ?it/s]       \u001b[A\n",
            "Validation DataLoader 0:   0% 0/79 [00:00<?, ?it/s]\u001b[A\n",
            "Validation DataLoader 0:  25% 20/79 [00:00<00:01, 51.79it/s]\u001b[A\n",
            "Validation DataLoader 0:  51% 40/79 [00:00<00:00, 48.62it/s]\u001b[A\n",
            "Validation DataLoader 0:  76% 60/79 [00:01<00:00, 49.87it/s]\u001b[A\n",
            "Validation DataLoader 0: 100% 79/79 [00:01<00:00, 50.84it/s]\u001b[A\n",
            "Epoch 4: 100% 391/391 [00:08<00:00, 44.91it/s, v_num=0, train_loss_step=1.11e+4, train_recon_step=6.97e+3, train_kl_step=4.11e+3, val_loss=1.47e+4, val_recon=8.17e+3, val_kl=6.48e+3, train_loss_epoch=1.72e+4, train_recon_epoch=1.07e+4, train_kl_epoch=6.51e+3]\n",
            "Validation: |          | 0/? [00:00<?, ?it/s]\u001b[A\n",
            "Validation:   0% 0/79 [00:00<?, ?it/s]       \u001b[A\n",
            "Validation DataLoader 0:   0% 0/79 [00:00<?, ?it/s]\u001b[A\n",
            "Validation DataLoader 0:  25% 20/79 [00:00<00:00, 72.59it/s]\u001b[A\n",
            "Validation DataLoader 0:  51% 40/79 [00:00<00:00, 70.51it/s]\u001b[A\n",
            "Validation DataLoader 0:  76% 60/79 [00:00<00:00, 69.42it/s]\u001b[A\n",
            "Validation DataLoader 0: 100% 79/79 [00:01<00:00, 70.11it/s]\u001b[A\n",
            "Epoch 5: 100% 391/391 [00:09<00:00, 42.18it/s, v_num=0, train_loss_step=1.04e+4, train_recon_step=6.47e+3, train_kl_step=3.95e+3, val_loss=1.46e+4, val_recon=8.14e+3, val_kl=6.42e+3, train_loss_epoch=1.7e+4, train_recon_epoch=1.06e+4, train_kl_epoch=6.46e+3]\n",
            "Validation: |          | 0/? [00:00<?, ?it/s]\u001b[A\n",
            "Validation:   0% 0/79 [00:00<?, ?it/s]       \u001b[A\n",
            "Validation DataLoader 0:   0% 0/79 [00:00<?, ?it/s]\u001b[A\n",
            "Validation DataLoader 0:  25% 20/79 [00:00<00:00, 70.75it/s]\u001b[A\n",
            "Validation DataLoader 0:  51% 40/79 [00:00<00:00, 71.32it/s]\u001b[A\n",
            "Validation DataLoader 0:  76% 60/79 [00:00<00:00, 69.10it/s]\u001b[A\n",
            "Validation DataLoader 0: 100% 79/79 [00:01<00:00, 70.26it/s]\u001b[A\n",
            "Epoch 6: 100% 391/391 [00:09<00:00, 39.10it/s, v_num=0, train_loss_step=1.08e+4, train_recon_step=6.75e+3, train_kl_step=4.01e+3, val_loss=1.44e+4, val_recon=8.07e+3, val_kl=6.31e+3, train_loss_epoch=1.69e+4, train_recon_epoch=1.05e+4, train_kl_epoch=6.41e+3]\n",
            "Validation: |          | 0/? [00:00<?, ?it/s]\u001b[A\n",
            "Validation:   0% 0/79 [00:00<?, ?it/s]       \u001b[A\n",
            "Validation DataLoader 0:   0% 0/79 [00:00<?, ?it/s]\u001b[A\n",
            "Validation DataLoader 0:  25% 20/79 [00:00<00:00, 67.37it/s]\u001b[A\n",
            "Validation DataLoader 0:  51% 40/79 [00:00<00:00, 69.28it/s]\u001b[A\n",
            "Validation DataLoader 0:  76% 60/79 [00:00<00:00, 69.29it/s]\u001b[A\n",
            "Validation DataLoader 0: 100% 79/79 [00:01<00:00, 68.93it/s]\u001b[A\n",
            "Epoch 7: 100% 391/391 [00:09<00:00, 42.32it/s, v_num=0, train_loss_step=1.03e+4, train_recon_step=6.29e+3, train_kl_step=3.98e+3, val_loss=1.45e+4, val_recon=8.05e+3, val_kl=6.42e+3, train_loss_epoch=1.68e+4, train_recon_epoch=1.04e+4, train_kl_epoch=6.4e+3]\n",
            "Validation: |          | 0/? [00:00<?, ?it/s]\u001b[A\n",
            "Validation:   0% 0/79 [00:00<?, ?it/s]       \u001b[A\n",
            "Validation DataLoader 0:   0% 0/79 [00:00<?, ?it/s]\u001b[A\n",
            "Validation DataLoader 0:  25% 20/79 [00:00<00:00, 67.49it/s]\u001b[A\n",
            "Validation DataLoader 0:  51% 40/79 [00:00<00:00, 68.58it/s]\u001b[A\n",
            "Validation DataLoader 0:  76% 60/79 [00:00<00:00, 69.13it/s]\u001b[A\n",
            "Validation DataLoader 0: 100% 79/79 [00:01<00:00, 68.43it/s]\u001b[A\n",
            "Epoch 8: 100% 391/391 [00:08<00:00, 46.92it/s, v_num=0, train_loss_step=1.06e+4, train_recon_step=6.53e+3, train_kl_step=4.1e+3, val_loss=1.45e+4, val_recon=8.04e+3, val_kl=6.48e+3, train_loss_epoch=1.68e+4, train_recon_epoch=1.04e+4, train_kl_epoch=6.38e+3] \n",
            "Validation: |          | 0/? [00:00<?, ?it/s]\u001b[A\n",
            "Validation:   0% 0/79 [00:00<?, ?it/s]       \u001b[A\n",
            "Validation DataLoader 0:   0% 0/79 [00:00<?, ?it/s]\u001b[A\n",
            "Validation DataLoader 0:  25% 20/79 [00:00<00:01, 53.96it/s]\u001b[A\n",
            "Validation DataLoader 0:  51% 40/79 [00:00<00:00, 51.85it/s]\u001b[A\n",
            "Validation DataLoader 0:  76% 60/79 [00:01<00:00, 50.49it/s]\u001b[A\n",
            "Validation DataLoader 0: 100% 79/79 [00:01<00:00, 49.70it/s]\u001b[A\n",
            "Epoch 9: 100% 391/391 [00:08<00:00, 44.42it/s, v_num=0, train_loss_step=1.04e+4, train_recon_step=6.45e+3, train_kl_step=4e+3, val_loss=1.46e+4, val_recon=8.05e+3, val_kl=6.52e+3, train_loss_epoch=1.67e+4, train_recon_epoch=1.04e+4, train_kl_epoch=6.37e+3]   \n",
            "Validation: |          | 0/? [00:00<?, ?it/s]\u001b[A\n",
            "Validation:   0% 0/79 [00:00<?, ?it/s]       \u001b[A\n",
            "Validation DataLoader 0:   0% 0/79 [00:00<?, ?it/s]\u001b[A\n",
            "Validation DataLoader 0:  25% 20/79 [00:00<00:00, 72.92it/s]\u001b[A\n",
            "Validation DataLoader 0:  51% 40/79 [00:00<00:00, 71.62it/s]\u001b[A\n",
            "Validation DataLoader 0:  76% 60/79 [00:00<00:00, 70.38it/s]\u001b[A\n",
            "Validation DataLoader 0: 100% 79/79 [00:01<00:00, 70.01it/s]\u001b[A\n",
            "Epoch 10: 100% 391/391 [00:09<00:00, 42.79it/s, v_num=0, train_loss_step=1.05e+4, train_recon_step=6.46e+3, train_kl_step=3.99e+3, val_loss=1.44e+4, val_recon=8.03e+3, val_kl=6.39e+3, train_loss_epoch=1.67e+4, train_recon_epoch=1.03e+4, train_kl_epoch=6.35e+3]\n",
            "Validation: |          | 0/? [00:00<?, ?it/s]\u001b[A\n",
            "Validation:   0% 0/79 [00:00<?, ?it/s]       \u001b[A\n",
            "Validation DataLoader 0:   0% 0/79 [00:00<?, ?it/s]\u001b[A\n",
            "Validation DataLoader 0:  25% 20/79 [00:00<00:00, 67.67it/s]\u001b[A\n",
            "Validation DataLoader 0:  51% 40/79 [00:00<00:00, 67.87it/s]\u001b[A\n",
            "Validation DataLoader 0:  76% 60/79 [00:00<00:00, 68.92it/s]\u001b[A\n",
            "Validation DataLoader 0: 100% 79/79 [00:01<00:00, 70.19it/s]\u001b[A\n",
            "Epoch 11: 100% 391/391 [00:09<00:00, 42.82it/s, v_num=0, train_loss_step=1.01e+4, train_recon_step=6.2e+3, train_kl_step=3.91e+3, val_loss=1.43e+4, val_recon=8.07e+3, val_kl=6.28e+3, train_loss_epoch=1.67e+4, train_recon_epoch=1.03e+4, train_kl_epoch=6.36e+3] \n",
            "Validation: |          | 0/? [00:00<?, ?it/s]\u001b[A\n",
            "Validation:   0% 0/79 [00:00<?, ?it/s]       \u001b[A\n",
            "Validation DataLoader 0:   0% 0/79 [00:00<?, ?it/s]\u001b[A\n",
            "Validation DataLoader 0:  25% 20/79 [00:00<00:00, 71.39it/s]\u001b[A\n",
            "Validation DataLoader 0:  51% 40/79 [00:00<00:00, 68.55it/s]\u001b[A\n",
            "Validation DataLoader 0:  76% 60/79 [00:00<00:00, 68.84it/s]\u001b[A\n",
            "Validation DataLoader 0: 100% 79/79 [00:01<00:00, 69.98it/s]\u001b[A\n",
            "Epoch 12: 100% 391/391 [00:08<00:00, 44.68it/s, v_num=0, train_loss_step=1.09e+4, train_recon_step=6.66e+3, train_kl_step=4.21e+3, val_loss=1.45e+4, val_recon=8.02e+3, val_kl=6.5e+3, train_loss_epoch=1.66e+4, train_recon_epoch=1.03e+4, train_kl_epoch=6.36e+3]\n",
            "Validation: |          | 0/? [00:00<?, ?it/s]\u001b[A\n",
            "Validation:   0% 0/79 [00:00<?, ?it/s]       \u001b[A\n",
            "Validation DataLoader 0:   0% 0/79 [00:00<?, ?it/s]\u001b[A\n",
            "Validation DataLoader 0:  25% 20/79 [00:00<00:01, 53.30it/s]\u001b[A\n",
            "Validation DataLoader 0:  51% 40/79 [00:00<00:00, 54.00it/s]\u001b[A\n",
            "Validation DataLoader 0:  76% 60/79 [00:01<00:00, 50.27it/s]\u001b[A\n",
            "Validation DataLoader 0: 100% 79/79 [00:01<00:00, 48.51it/s]\u001b[A\n",
            "Epoch 13: 100% 391/391 [00:08<00:00, 46.54it/s, v_num=0, train_loss_step=1.06e+4, train_recon_step=6.63e+3, train_kl_step=3.94e+3, val_loss=1.45e+4, val_recon=8.01e+3, val_kl=6.52e+3, train_loss_epoch=1.66e+4, train_recon_epoch=1.03e+4, train_kl_epoch=6.34e+3]\n",
            "Validation: |          | 0/? [00:00<?, ?it/s]\u001b[A\n",
            "Validation:   0% 0/79 [00:00<?, ?it/s]       \u001b[A\n",
            "Validation DataLoader 0:   0% 0/79 [00:00<?, ?it/s]\u001b[A\n",
            "Validation DataLoader 0:  25% 20/79 [00:00<00:00, 67.15it/s]\u001b[A\n",
            "Validation DataLoader 0:  51% 40/79 [00:00<00:00, 69.26it/s]\u001b[A\n",
            "Validation DataLoader 0:  76% 60/79 [00:00<00:00, 70.13it/s]\u001b[A\n",
            "Validation DataLoader 0: 100% 79/79 [00:01<00:00, 70.71it/s]\u001b[A\n",
            "Epoch 14: 100% 391/391 [00:09<00:00, 42.67it/s, v_num=0, train_loss_step=1.05e+4, train_recon_step=6.55e+3, train_kl_step=3.92e+3, val_loss=1.43e+4, val_recon=8.03e+3, val_kl=6.24e+3, train_loss_epoch=1.66e+4, train_recon_epoch=1.03e+4, train_kl_epoch=6.34e+3]\n",
            "Validation: |          | 0/? [00:00<?, ?it/s]\u001b[A\n",
            "Validation:   0% 0/79 [00:00<?, ?it/s]       \u001b[A\n",
            "Validation DataLoader 0:   0% 0/79 [00:00<?, ?it/s]\u001b[A\n",
            "Validation DataLoader 0:  25% 20/79 [00:00<00:00, 72.32it/s]\u001b[A\n",
            "Validation DataLoader 0:  51% 40/79 [00:00<00:00, 68.91it/s]\u001b[A\n",
            "Validation DataLoader 0:  76% 60/79 [00:00<00:00, 69.65it/s]\u001b[A\n",
            "Validation DataLoader 0: 100% 79/79 [00:01<00:00, 69.87it/s]\u001b[A\n",
            "Epoch 15: 100% 391/391 [00:09<00:00, 42.85it/s, v_num=0, train_loss_step=9.78e+3, train_recon_step=6.02e+3, train_kl_step=3.77e+3, val_loss=1.42e+4, val_recon=8.04e+3, val_kl=6.2e+3, train_loss_epoch=1.66e+4, train_recon_epoch=1.02e+4, train_kl_epoch=6.35e+3]\n",
            "Validation: |          | 0/? [00:00<?, ?it/s]\u001b[A\n",
            "Validation:   0% 0/79 [00:00<?, ?it/s]       \u001b[A\n",
            "Validation DataLoader 0:   0% 0/79 [00:00<?, ?it/s]\u001b[A\n",
            "Validation DataLoader 0:  25% 20/79 [00:00<00:00, 69.83it/s]\u001b[A\n",
            "Validation DataLoader 0:  51% 40/79 [00:00<00:00, 68.03it/s]\u001b[A\n",
            "Validation DataLoader 0:  76% 60/79 [00:00<00:00, 69.11it/s]\u001b[A\n",
            "Validation DataLoader 0: 100% 79/79 [00:01<00:00, 69.96it/s]\u001b[A\n",
            "Epoch 16: 100% 391/391 [00:09<00:00, 42.52it/s, v_num=0, train_loss_step=1.03e+4, train_recon_step=6.37e+3, train_kl_step=3.93e+3, val_loss=1.44e+4, val_recon=8.06e+3, val_kl=6.34e+3, train_loss_epoch=1.66e+4, train_recon_epoch=1.02e+4, train_kl_epoch=6.34e+3]\n",
            "Validation: |          | 0/? [00:00<?, ?it/s]\u001b[A\n",
            "Validation:   0% 0/79 [00:00<?, ?it/s]       \u001b[A\n",
            "Validation DataLoader 0:   0% 0/79 [00:00<?, ?it/s]\u001b[A\n",
            "Validation DataLoader 0:  25% 20/79 [00:00<00:00, 73.24it/s]\u001b[A\n",
            "Validation DataLoader 0:  51% 40/79 [00:00<00:00, 71.51it/s]\u001b[A\n",
            "Validation DataLoader 0:  76% 60/79 [00:00<00:00, 69.31it/s]\u001b[A\n",
            "Validation DataLoader 0: 100% 79/79 [00:01<00:00, 69.89it/s]\u001b[A\n",
            "Epoch 17: 100% 391/391 [00:08<00:00, 46.82it/s, v_num=0, train_loss_step=1.04e+4, train_recon_step=6.39e+3, train_kl_step=4.01e+3, val_loss=1.44e+4, val_recon=8.05e+3, val_kl=6.37e+3, train_loss_epoch=1.66e+4, train_recon_epoch=1.02e+4, train_kl_epoch=6.34e+3]\n",
            "Validation: |          | 0/? [00:00<?, ?it/s]\u001b[A\n",
            "Validation:   0% 0/79 [00:00<?, ?it/s]       \u001b[A\n",
            "Validation DataLoader 0:   0% 0/79 [00:00<?, ?it/s]\u001b[A\n",
            "Validation DataLoader 0:  25% 20/79 [00:00<00:00, 71.45it/s]\u001b[A\n",
            "Validation DataLoader 0:  51% 40/79 [00:00<00:00, 53.68it/s]\u001b[A\n",
            "Validation DataLoader 0:  76% 60/79 [00:01<00:00, 53.35it/s]\u001b[A\n",
            "Validation DataLoader 0: 100% 79/79 [00:01<00:00, 52.33it/s]\u001b[A\n",
            "Epoch 18: 100% 391/391 [00:08<00:00, 44.06it/s, v_num=0, train_loss_step=9.77e+3, train_recon_step=6.06e+3, train_kl_step=3.71e+3, val_loss=1.43e+4, val_recon=7.98e+3, val_kl=6.36e+3, train_loss_epoch=1.65e+4, train_recon_epoch=1.02e+4, train_kl_epoch=6.34e+3]\n",
            "Validation: |          | 0/? [00:00<?, ?it/s]\u001b[A\n",
            "Validation:   0% 0/79 [00:00<?, ?it/s]       \u001b[A\n",
            "Validation DataLoader 0:   0% 0/79 [00:00<?, ?it/s]\u001b[A\n",
            "Validation DataLoader 0:  25% 20/79 [00:00<00:00, 73.19it/s]\u001b[A\n",
            "Validation DataLoader 0:  51% 40/79 [00:00<00:00, 70.34it/s]\u001b[A\n",
            "Validation DataLoader 0:  76% 60/79 [00:00<00:00, 70.43it/s]\u001b[A\n",
            "Validation DataLoader 0: 100% 79/79 [00:01<00:00, 70.85it/s]\u001b[A\n",
            "Epoch 19: 100% 391/391 [00:09<00:00, 42.48it/s, v_num=0, train_loss_step=1.05e+4, train_recon_step=6.52e+3, train_kl_step=3.95e+3, val_loss=1.42e+4, val_recon=8.01e+3, val_kl=6.15e+3, train_loss_epoch=1.65e+4, train_recon_epoch=1.02e+4, train_kl_epoch=6.33e+3]\n",
            "Validation: |          | 0/? [00:00<?, ?it/s]\u001b[A\n",
            "Validation:   0% 0/79 [00:00<?, ?it/s]       \u001b[A\n",
            "Validation DataLoader 0:   0% 0/79 [00:00<?, ?it/s]\u001b[A\n",
            "Validation DataLoader 0:  25% 20/79 [00:00<00:00, 71.88it/s]\u001b[A\n",
            "Validation DataLoader 0:  51% 40/79 [00:00<00:00, 71.07it/s]\u001b[A\n",
            "Validation DataLoader 0:  76% 60/79 [00:00<00:00, 68.48it/s]\u001b[A\n",
            "Validation DataLoader 0: 100% 79/79 [00:01<00:00, 69.26it/s]\u001b[A\n",
            "Epoch 20: 100% 391/391 [00:09<00:00, 42.44it/s, v_num=0, train_loss_step=1.04e+4, train_recon_step=6.45e+3, train_kl_step=3.94e+3, val_loss=1.43e+4, val_recon=8e+3, val_kl=6.31e+3, train_loss_epoch=1.65e+4, train_recon_epoch=1.02e+4, train_kl_epoch=6.33e+3]\n",
            "Validation: |          | 0/? [00:00<?, ?it/s]\u001b[A\n",
            "Validation:   0% 0/79 [00:00<?, ?it/s]       \u001b[A\n",
            "Validation DataLoader 0:   0% 0/79 [00:00<?, ?it/s]\u001b[A\n",
            "Validation DataLoader 0:  25% 20/79 [00:00<00:00, 70.92it/s]\u001b[A\n",
            "Validation DataLoader 0:  51% 40/79 [00:00<00:00, 71.10it/s]\u001b[A\n",
            "Validation DataLoader 0:  76% 60/79 [00:00<00:00, 69.27it/s]\u001b[A\n",
            "Validation DataLoader 0: 100% 79/79 [00:01<00:00, 70.64it/s]\u001b[A\n",
            "Epoch 21: 100% 391/391 [00:08<00:00, 44.45it/s, v_num=0, train_loss_step=1.03e+4, train_recon_step=6.43e+3, train_kl_step=3.89e+3, val_loss=1.43e+4, val_recon=7.99e+3, val_kl=6.26e+3, train_loss_epoch=1.65e+4, train_recon_epoch=1.02e+4, train_kl_epoch=6.33e+3]\n",
            "Validation: |          | 0/? [00:00<?, ?it/s]\u001b[A\n",
            "Validation:   0% 0/79 [00:00<?, ?it/s]       \u001b[A\n",
            "Validation DataLoader 0:   0% 0/79 [00:00<?, ?it/s]\u001b[A\n",
            "Validation DataLoader 0:  25% 20/79 [00:00<00:01, 49.43it/s]\u001b[A\n",
            "Validation DataLoader 0:  51% 40/79 [00:00<00:00, 51.67it/s]\u001b[A\n",
            "Validation DataLoader 0:  76% 60/79 [00:01<00:00, 48.03it/s]\u001b[A\n",
            "Validation DataLoader 0: 100% 79/79 [00:01<00:00, 48.42it/s]\u001b[A\n",
            "Epoch 22: 100% 391/391 [00:08<00:00, 46.87it/s, v_num=0, train_loss_step=1.01e+4, train_recon_step=6.2e+3, train_kl_step=3.94e+3, val_loss=1.42e+4, val_recon=8e+3, val_kl=6.22e+3, train_loss_epoch=1.65e+4, train_recon_epoch=1.02e+4, train_kl_epoch=6.33e+3] \n",
            "Validation: |          | 0/? [00:00<?, ?it/s]\u001b[A\n",
            "Validation:   0% 0/79 [00:00<?, ?it/s]       \u001b[A\n",
            "Validation DataLoader 0:   0% 0/79 [00:00<?, ?it/s]\u001b[A\n",
            "Validation DataLoader 0:  25% 20/79 [00:00<00:00, 74.20it/s]\u001b[A\n",
            "Validation DataLoader 0:  51% 40/79 [00:00<00:00, 71.51it/s]\u001b[A\n",
            "Validation DataLoader 0:  76% 60/79 [00:00<00:00, 69.78it/s]\u001b[A\n",
            "Validation DataLoader 0: 100% 79/79 [00:01<00:00, 70.97it/s]\u001b[A\n",
            "Epoch 23: 100% 391/391 [00:09<00:00, 43.06it/s, v_num=0, train_loss_step=1.01e+4, train_recon_step=6.16e+3, train_kl_step=3.92e+3, val_loss=1.45e+4, val_recon=7.98e+3, val_kl=6.47e+3, train_loss_epoch=1.65e+4, train_recon_epoch=1.02e+4, train_kl_epoch=6.33e+3]\n",
            "Validation: |          | 0/? [00:00<?, ?it/s]\u001b[A\n",
            "Validation:   0% 0/79 [00:00<?, ?it/s]       \u001b[A\n",
            "Validation DataLoader 0:   0% 0/79 [00:00<?, ?it/s]\u001b[A\n",
            "Validation DataLoader 0:  25% 20/79 [00:00<00:00, 70.13it/s]\u001b[A\n",
            "Validation DataLoader 0:  51% 40/79 [00:00<00:00, 69.25it/s]\u001b[A\n",
            "Validation DataLoader 0:  76% 60/79 [00:00<00:00, 69.04it/s]\u001b[A\n",
            "Validation DataLoader 0: 100% 79/79 [00:01<00:00, 69.57it/s]\u001b[A\n",
            "Epoch 24: 100% 391/391 [00:09<00:00, 42.62it/s, v_num=0, train_loss_step=1.02e+4, train_recon_step=6.22e+3, train_kl_step=4.01e+3, val_loss=1.43e+4, val_recon=7.93e+3, val_kl=6.4e+3, train_loss_epoch=1.65e+4, train_recon_epoch=1.02e+4, train_kl_epoch=6.32e+3]\n",
            "Validation: |          | 0/? [00:00<?, ?it/s]\u001b[A\n",
            "Validation:   0% 0/79 [00:00<?, ?it/s]       \u001b[A\n",
            "Validation DataLoader 0:   0% 0/79 [00:00<?, ?it/s]\u001b[A\n",
            "Validation DataLoader 0:  25% 20/79 [00:00<00:00, 70.38it/s]\u001b[A\n",
            "Validation DataLoader 0:  51% 40/79 [00:00<00:00, 70.70it/s]\u001b[A\n",
            "Validation DataLoader 0:  76% 60/79 [00:00<00:00, 69.82it/s]\u001b[A\n",
            "Validation DataLoader 0: 100% 79/79 [00:01<00:00, 69.52it/s]\u001b[A\n",
            "Epoch 25: 100% 391/391 [00:09<00:00, 42.52it/s, v_num=0, train_loss_step=1.06e+4, train_recon_step=6.55e+3, train_kl_step=4.08e+3, val_loss=1.44e+4, val_recon=7.93e+3, val_kl=6.5e+3, train_loss_epoch=1.65e+4, train_recon_epoch=1.01e+4, train_kl_epoch=6.33e+3]\n",
            "Validation: |          | 0/? [00:00<?, ?it/s]\u001b[A\n",
            "Validation:   0% 0/79 [00:00<?, ?it/s]       \u001b[A\n",
            "Validation DataLoader 0:   0% 0/79 [00:00<?, ?it/s]\u001b[A\n",
            "Validation DataLoader 0:  25% 20/79 [00:00<00:00, 63.26it/s]\u001b[A\n",
            "Validation DataLoader 0:  51% 40/79 [00:00<00:00, 66.10it/s]\u001b[A\n",
            "Validation DataLoader 0:  76% 60/79 [00:00<00:00, 67.35it/s]\u001b[A\n",
            "Validation DataLoader 0: 100% 79/79 [00:01<00:00, 67.72it/s]\u001b[A\n",
            "Epoch 26: 100% 391/391 [00:08<00:00, 46.48it/s, v_num=0, train_loss_step=1.03e+4, train_recon_step=6.37e+3, train_kl_step=3.93e+3, val_loss=1.43e+4, val_recon=7.97e+3, val_kl=6.34e+3, train_loss_epoch=1.65e+4, train_recon_epoch=1.01e+4, train_kl_epoch=6.32e+3]\n",
            "Validation: |          | 0/? [00:00<?, ?it/s]\u001b[A\n",
            "Validation:   0% 0/79 [00:00<?, ?it/s]       \u001b[A\n",
            "Validation DataLoader 0:   0% 0/79 [00:00<?, ?it/s]\u001b[A\n",
            "Validation DataLoader 0:  25% 20/79 [00:00<00:00, 71.80it/s]\u001b[A\n",
            "Validation DataLoader 0:  51% 40/79 [00:00<00:00, 57.71it/s]\u001b[A\n",
            "Validation DataLoader 0:  76% 60/79 [00:01<00:00, 54.67it/s]\u001b[A\n",
            "Validation DataLoader 0: 100% 79/79 [00:01<00:00, 52.77it/s]\u001b[A\n",
            "Epoch 27: 100% 391/391 [00:08<00:00, 44.04it/s, v_num=0, train_loss_step=1.05e+4, train_recon_step=6.34e+3, train_kl_step=4.13e+3, val_loss=1.42e+4, val_recon=7.98e+3, val_kl=6.24e+3, train_loss_epoch=1.65e+4, train_recon_epoch=1.01e+4, train_kl_epoch=6.32e+3]\n",
            "Validation: |          | 0/? [00:00<?, ?it/s]\u001b[A\n",
            "Validation:   0% 0/79 [00:00<?, ?it/s]       \u001b[A\n",
            "Validation DataLoader 0:   0% 0/79 [00:00<?, ?it/s]\u001b[A\n",
            "Validation DataLoader 0:  25% 20/79 [00:00<00:00, 73.84it/s]\u001b[A\n",
            "Validation DataLoader 0:  51% 40/79 [00:00<00:00, 71.72it/s]\u001b[A\n",
            "Validation DataLoader 0:  76% 60/79 [00:00<00:00, 71.02it/s]\u001b[A\n",
            "Validation DataLoader 0: 100% 79/79 [00:01<00:00, 71.05it/s]\u001b[A\n",
            "Epoch 28: 100% 391/391 [00:09<00:00, 42.83it/s, v_num=0, train_loss_step=1.04e+4, train_recon_step=6.5e+3, train_kl_step=3.89e+3, val_loss=1.45e+4, val_recon=7.93e+3, val_kl=6.55e+3, train_loss_epoch=1.65e+4, train_recon_epoch=1.01e+4, train_kl_epoch=6.32e+3] \n",
            "Validation: |          | 0/? [00:00<?, ?it/s]\u001b[A\n",
            "Validation:   0% 0/79 [00:00<?, ?it/s]       \u001b[A\n",
            "Validation DataLoader 0:   0% 0/79 [00:00<?, ?it/s]\u001b[A\n",
            "Validation DataLoader 0:  25% 20/79 [00:00<00:00, 71.42it/s]\u001b[A\n",
            "Validation DataLoader 0:  51% 40/79 [00:00<00:00, 70.28it/s]\u001b[A\n",
            "Validation DataLoader 0:  76% 60/79 [00:00<00:00, 70.29it/s]\u001b[A\n",
            "Validation DataLoader 0: 100% 79/79 [00:01<00:00, 70.15it/s]\u001b[A\n",
            "Epoch 29: 100% 391/391 [00:09<00:00, 42.95it/s, v_num=0, train_loss_step=1.04e+4, train_recon_step=6.42e+3, train_kl_step=3.97e+3, val_loss=1.42e+4, val_recon=7.95e+3, val_kl=6.27e+3, train_loss_epoch=1.64e+4, train_recon_epoch=1.01e+4, train_kl_epoch=6.31e+3]\n",
            "Validation: |          | 0/? [00:00<?, ?it/s]\u001b[A\n",
            "Validation:   0% 0/79 [00:00<?, ?it/s]       \u001b[A\n",
            "Validation DataLoader 0:   0% 0/79 [00:00<?, ?it/s]\u001b[A\n",
            "Validation DataLoader 0:  25% 20/79 [00:00<00:00, 64.17it/s]\u001b[A\n",
            "Validation DataLoader 0:  51% 40/79 [00:00<00:00, 67.01it/s]\u001b[A\n",
            "Validation DataLoader 0:  76% 60/79 [00:00<00:00, 68.19it/s]\u001b[A\n",
            "Validation DataLoader 0: 100% 79/79 [00:01<00:00, 69.21it/s]\u001b[A\n",
            "Epoch 29: 100% 391/391 [00:10<00:00, 38.11it/s, v_num=0, train_loss_step=1.04e+4, train_recon_step=6.42e+3, train_kl_step=3.97e+3, val_loss=1.42e+4, val_recon=7.96e+3, val_kl=6.28e+3, train_loss_epoch=1.64e+4, train_recon_epoch=1.01e+4, train_kl_epoch=6.32e+3]`Trainer.fit` stopped: `max_epochs=30` reached.\n",
            "Epoch 29: 100% 391/391 [00:10<00:00, 38.10it/s, v_num=0, train_loss_step=1.04e+4, train_recon_step=6.42e+3, train_kl_step=3.97e+3, val_loss=1.42e+4, val_recon=7.96e+3, val_kl=6.28e+3, train_loss_epoch=1.64e+4, train_recon_epoch=1.01e+4, train_kl_epoch=6.32e+3]\n",
            "LOCAL_RANK: 0 - CUDA_VISIBLE_DEVICES: [0]\n",
            "Testing DataLoader 0: 100% 79/79 [00:01<00:00, 78.29it/s]\n",
            "┏━━━━━━━━━━━━━━━━━━━━━━━━━━━┳━━━━━━━━━━━━━━━━━━━━━━━━━━━┓\n",
            "┃\u001b[1m \u001b[0m\u001b[1m       Test metric       \u001b[0m\u001b[1m \u001b[0m┃\u001b[1m \u001b[0m\u001b[1m      DataLoader 0       \u001b[0m\u001b[1m \u001b[0m┃\n",
            "┡━━━━━━━━━━━━━━━━━━━━━━━━━━━╇━━━━━━━━━━━━━━━━━━━━━━━━━━━┩\n",
            "│\u001b[36m \u001b[0m\u001b[36m         test_kl         \u001b[0m\u001b[36m \u001b[0m│\u001b[35m \u001b[0m\u001b[35m    6276.18310546875     \u001b[0m\u001b[35m \u001b[0m│\n",
            "│\u001b[36m \u001b[0m\u001b[36m        test_loss        \u001b[0m\u001b[36m \u001b[0m│\u001b[35m \u001b[0m\u001b[35m      14161.1953125      \u001b[0m\u001b[35m \u001b[0m│\n",
            "│\u001b[36m \u001b[0m\u001b[36m       test_recon        \u001b[0m\u001b[36m \u001b[0m│\u001b[35m \u001b[0m\u001b[35m     7885.0126953125     \u001b[0m\u001b[35m \u001b[0m│\n",
            "└───────────────────────────┴───────────────────────────┘\n"
          ]
        }
      ],
      "source": [
        "!PYTHONPATH=src python src/final_project/train/train_vae.py"
      ]
    }
  ],
  "metadata": {
    "language_info": {
      "name": "python"
    },
    "colab": {
      "provenance": [],
      "gpuType": "T4"
    },
    "kernelspec": {
      "name": "python3",
      "display_name": "Python 3"
    },
    "accelerator": "GPU"
  },
  "nbformat": 4,
  "nbformat_minor": 5
}