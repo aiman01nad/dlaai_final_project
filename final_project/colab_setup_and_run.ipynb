{
  "cells": [
    {
      "cell_type": "code",
      "source": [
        "from google.colab import drive\n",
        "drive.mount(\"/content/drive\", force_remount=True)"
      ],
      "metadata": {
        "colab": {
          "base_uri": "https://localhost:8080/"
        },
        "id": "R09KyPW_RGUc",
        "outputId": "8d558f68-4ba8-4fa1-c598-53d09d800e6e"
      },
      "id": "R09KyPW_RGUc",
      "execution_count": 1,
      "outputs": [
        {
          "output_type": "stream",
          "name": "stdout",
          "text": [
            "Mounted at /content/drive\n"
          ]
        }
      ]
    },
    {
      "cell_type": "code",
      "execution_count": 2,
      "id": "e4069b3f",
      "metadata": {
        "vscode": {
          "languageId": "plaintext"
        },
        "colab": {
          "base_uri": "https://localhost:8080/"
        },
        "id": "e4069b3f",
        "outputId": "857eaf1f-46cb-4d96-8933-35526e242c7e"
      },
      "outputs": [
        {
          "output_type": "stream",
          "name": "stdout",
          "text": [
            "Cloning into 'dlaai_final_project'...\n",
            "remote: Enumerating objects: 685, done.\u001b[K\n",
            "remote: Counting objects: 100% (123/123), done.\u001b[K\n",
            "remote: Compressing objects: 100% (67/67), done.\u001b[K\n",
            "remote: Total 685 (delta 39), reused 85 (delta 34), pack-reused 562 (from 1)\u001b[K\n",
            "Receiving objects: 100% (685/685), 24.82 MiB | 37.99 MiB/s, done.\n",
            "Resolving deltas: 100% (269/269), done.\n",
            "/content/dlaai_final_project/final_project\n"
          ]
        }
      ],
      "source": [
        "!git clone https://github.com/aiman01nad/dlaai_final_project\n",
        "%cd dlaai_final_project/final_project"
      ]
    },
    {
      "cell_type": "code",
      "source": [
        "!pip install -r requirements.txt"
      ],
      "metadata": {
        "id": "PfQKNvsgZbx1"
      },
      "id": "PfQKNvsgZbx1",
      "execution_count": null,
      "outputs": []
    },
    {
      "cell_type": "code",
      "source": [
        "!git pull"
      ],
      "metadata": {
        "colab": {
          "base_uri": "https://localhost:8080/"
        },
        "id": "YQU2cdXjYcNl",
        "outputId": "51e2a850-bbe9-4c63-b5d5-83fe6299066c"
      },
      "id": "YQU2cdXjYcNl",
      "execution_count": null,
      "outputs": [
        {
          "output_type": "stream",
          "name": "stdout",
          "text": [
            "Updating f2345f7..a6a633e\n",
            "Fast-forward\n",
            " final_project/pyproject.toml                        |  1 \u001b[32m+\u001b[m\n",
            " final_project/src/final_project/data/mnist.py       | 15 \u001b[32m+++++++++\u001b[m\u001b[31m------\u001b[m\n",
            " .../src/final_project/train/train_vqvae.py          | 21 \u001b[32m+++++++++++++++++\u001b[m\u001b[31m----\u001b[m\n",
            " 3 files changed, 27 insertions(+), 10 deletions(-)\n"
          ]
        }
      ]
    },
    {
      "cell_type": "code",
      "source": [
        "import torch\n",
        "print(\"CUDA available:\", torch.cuda.is_available())"
      ],
      "metadata": {
        "colab": {
          "base_uri": "https://localhost:8080/"
        },
        "id": "xhVfIYHrO-5Q",
        "outputId": "2fdd6702-8bdc-435a-ac10-143e9350d465"
      },
      "id": "xhVfIYHrO-5Q",
      "execution_count": 3,
      "outputs": [
        {
          "output_type": "stream",
          "name": "stdout",
          "text": [
            "CUDA available: True\n"
          ]
        }
      ]
    },
    {
      "cell_type": "code",
      "source": [
        "import sys\n",
        "sys.path.append(\"src\")"
      ],
      "metadata": {
        "id": "1pi-UdUCWHQL"
      },
      "id": "1pi-UdUCWHQL",
      "execution_count": 4,
      "outputs": []
    },
    {
      "cell_type": "code",
      "execution_count": 8,
      "id": "3097fa21",
      "metadata": {
        "vscode": {
          "languageId": "plaintext"
        },
        "colab": {
          "base_uri": "https://localhost:8080/"
        },
        "id": "3097fa21",
        "outputId": "971b58cf-4a1f-4873-cb5a-1dbe2d4b84b5"
      },
      "outputs": [
        {
          "output_type": "stream",
          "name": "stdout",
          "text": [
            "GPU available: True (cuda), used: True\n",
            "TPU available: False, using: 0 TPU cores\n",
            "HPU available: False, using: 0 HPUs\n",
            "2025-05-27 11:17:29.209922: E external/local_xla/xla/stream_executor/cuda/cuda_fft.cc:477] Unable to register cuFFT factory: Attempting to register factory for plugin cuFFT when one has already been registered\n",
            "WARNING: All log messages before absl::InitializeLog() is called are written to STDERR\n",
            "E0000 00:00:1748344649.230846    6468 cuda_dnn.cc:8310] Unable to register cuDNN factory: Attempting to register factory for plugin cuDNN when one has already been registered\n",
            "E0000 00:00:1748344649.237168    6468 cuda_blas.cc:1418] Unable to register cuBLAS factory: Attempting to register factory for plugin cuBLAS when one has already been registered\n",
            "2025-05-27 11:17:29.257802: I tensorflow/core/platform/cpu_feature_guard.cc:210] This TensorFlow binary is optimized to use available CPU instructions in performance-critical operations.\n",
            "To enable the following instructions: AVX2 FMA, in other operations, rebuild TensorFlow with the appropriate compiler flags.\n",
            "LOCAL_RANK: 0 - CUDA_VISIBLE_DEVICES: [0]\n",
            "\n",
            "  | Name  | Type  | Params | Mode \n",
            "----------------------------------------\n",
            "0 | model | VQVAE | 19.6 K | train\n",
            "----------------------------------------\n",
            "19.6 K    Trainable params\n",
            "0         Non-trainable params\n",
            "19.6 K    Total params\n",
            "0.078     Total estimated model params size (MB)\n",
            "9         Modules in train mode\n",
            "0         Modules in eval mode\n",
            "Epoch 0: 100% 391/391 [00:08<00:00, 48.11it/s, v_num=0, train_loss_step=0.0228]\n",
            "Validation: |          | 0/? [00:00<?, ?it/s]\u001b[A\n",
            "Validation:   0% 0/79 [00:00<?, ?it/s]       \u001b[A\n",
            "Validation DataLoader 0:   0% 0/79 [00:00<?, ?it/s]\u001b[A\n",
            "Validation DataLoader 0:  25% 20/79 [00:00<00:01, 47.23it/s]\u001b[A\n",
            "Validation DataLoader 0:  51% 40/79 [00:00<00:00, 57.14it/s]\u001b[A\n",
            "Validation DataLoader 0:  76% 60/79 [00:00<00:00, 61.87it/s]\u001b[A\n",
            "Validation DataLoader 0: 100% 79/79 [00:01<00:00, 63.50it/s]\u001b[A\n",
            "Epoch 1: 100% 391/391 [00:06<00:00, 57.95it/s, v_num=0, train_loss_step=0.0171, val_loss=0.0232, train_loss_epoch=0.350]\n",
            "Validation: |          | 0/? [00:00<?, ?it/s]\u001b[A\n",
            "Validation:   0% 0/79 [00:00<?, ?it/s]       \u001b[A\n",
            "Validation DataLoader 0:   0% 0/79 [00:00<?, ?it/s]\u001b[A\n",
            "Validation DataLoader 0:  25% 20/79 [00:00<00:00, 76.24it/s]\u001b[A\n",
            "Validation DataLoader 0:  51% 40/79 [00:00<00:00, 75.13it/s]\u001b[A\n",
            "Validation DataLoader 0:  76% 60/79 [00:00<00:00, 72.85it/s]\u001b[A\n",
            "Validation DataLoader 0: 100% 79/79 [00:01<00:00, 73.45it/s]\u001b[A\n",
            "Epoch 2: 100% 391/391 [00:07<00:00, 51.08it/s, v_num=0, train_loss_step=0.0162, val_loss=0.0164, train_loss_epoch=0.0181]\n",
            "Validation: |          | 0/? [00:00<?, ?it/s]\u001b[A\n",
            "Validation:   0% 0/79 [00:00<?, ?it/s]       \u001b[A\n",
            "Validation DataLoader 0:   0% 0/79 [00:00<?, ?it/s]\u001b[A\n",
            "Validation DataLoader 0:  25% 20/79 [00:00<00:00, 76.04it/s]\u001b[A\n",
            "Validation DataLoader 0:  51% 40/79 [00:00<00:00, 72.78it/s]\u001b[A\n",
            "Validation DataLoader 0:  76% 60/79 [00:00<00:00, 72.90it/s]\u001b[A\n",
            "Validation DataLoader 0: 100% 79/79 [00:01<00:00, 73.74it/s]\u001b[A\n",
            "Epoch 3: 100% 391/391 [00:07<00:00, 55.01it/s, v_num=0, train_loss_step=0.0179, val_loss=0.0159, train_loss_epoch=0.0161]\n",
            "Validation: |          | 0/? [00:00<?, ?it/s]\u001b[A\n",
            "Validation:   0% 0/79 [00:00<?, ?it/s]       \u001b[A\n",
            "Validation DataLoader 0:   0% 0/79 [00:00<?, ?it/s]\u001b[A\n",
            "Validation DataLoader 0:  25% 20/79 [00:00<00:01, 56.93it/s]\u001b[A\n",
            "Validation DataLoader 0:  51% 40/79 [00:00<00:00, 55.79it/s]\u001b[A\n",
            "Validation DataLoader 0:  76% 60/79 [00:01<00:00, 53.54it/s]\u001b[A\n",
            "Validation DataLoader 0: 100% 79/79 [00:01<00:00, 49.77it/s]\u001b[A\n",
            "Epoch 4: 100% 391/391 [00:06<00:00, 57.32it/s, v_num=0, train_loss_step=0.0167, val_loss=0.0166, train_loss_epoch=0.0163]\n",
            "Validation: |          | 0/? [00:00<?, ?it/s]\u001b[A\n",
            "Validation:   0% 0/79 [00:00<?, ?it/s]       \u001b[A\n",
            "Validation DataLoader 0:   0% 0/79 [00:00<?, ?it/s]\u001b[A\n",
            "Validation DataLoader 0:  25% 20/79 [00:00<00:00, 73.29it/s]\u001b[A\n",
            "Validation DataLoader 0:  51% 40/79 [00:00<00:00, 69.49it/s]\u001b[A\n",
            "Validation DataLoader 0:  76% 60/79 [00:00<00:00, 70.14it/s]\u001b[A\n",
            "Validation DataLoader 0: 100% 79/79 [00:01<00:00, 71.86it/s]\u001b[A\n",
            "Epoch 5: 100% 391/391 [00:07<00:00, 51.00it/s, v_num=0, train_loss_step=0.0174, val_loss=0.0168, train_loss_epoch=0.0168]\n",
            "Validation: |          | 0/? [00:00<?, ?it/s]\u001b[A\n",
            "Validation:   0% 0/79 [00:00<?, ?it/s]       \u001b[A\n",
            "Validation DataLoader 0:   0% 0/79 [00:00<?, ?it/s]\u001b[A\n",
            "Validation DataLoader 0:  25% 20/79 [00:00<00:00, 75.38it/s]\u001b[A\n",
            "Validation DataLoader 0:  51% 40/79 [00:00<00:00, 74.62it/s]\u001b[A\n",
            "Validation DataLoader 0:  76% 60/79 [00:00<00:00, 74.51it/s]\u001b[A\n",
            "Validation DataLoader 0: 100% 79/79 [00:01<00:00, 73.51it/s]\u001b[A\n",
            "Epoch 6: 100% 391/391 [00:06<00:00, 58.03it/s, v_num=0, train_loss_step=0.0165, val_loss=0.0166, train_loss_epoch=0.0166]\n",
            "Validation: |          | 0/? [00:00<?, ?it/s]\u001b[A\n",
            "Validation:   0% 0/79 [00:00<?, ?it/s]       \u001b[A\n",
            "Validation DataLoader 0:   0% 0/79 [00:00<?, ?it/s]\u001b[A\n",
            "Validation DataLoader 0:  25% 20/79 [00:00<00:01, 53.31it/s]\u001b[A\n",
            "Validation DataLoader 0:  51% 40/79 [00:00<00:00, 54.07it/s]\u001b[A\n",
            "Validation DataLoader 0:  76% 60/79 [00:01<00:00, 51.94it/s]\u001b[A\n",
            "Validation DataLoader 0: 100% 79/79 [00:01<00:00, 53.02it/s]\u001b[A\n",
            "Epoch 7: 100% 391/391 [00:07<00:00, 54.43it/s, v_num=0, train_loss_step=0.0174, val_loss=0.0163, train_loss_epoch=0.0164]\n",
            "Validation: |          | 0/? [00:00<?, ?it/s]\u001b[A\n",
            "Validation:   0% 0/79 [00:00<?, ?it/s]       \u001b[A\n",
            "Validation DataLoader 0:   0% 0/79 [00:00<?, ?it/s]\u001b[A\n",
            "Validation DataLoader 0:  25% 20/79 [00:00<00:00, 71.29it/s]\u001b[A\n",
            "Validation DataLoader 0:  51% 40/79 [00:00<00:00, 72.42it/s]\u001b[A\n",
            "Validation DataLoader 0:  76% 60/79 [00:00<00:00, 73.36it/s]\u001b[A\n",
            "Validation DataLoader 0: 100% 79/79 [00:01<00:00, 73.71it/s]\u001b[A\n",
            "Epoch 8: 100% 391/391 [00:07<00:00, 51.06it/s, v_num=0, train_loss_step=0.0153, val_loss=0.0161, train_loss_epoch=0.0163]\n",
            "Validation: |          | 0/? [00:00<?, ?it/s]\u001b[A\n",
            "Validation:   0% 0/79 [00:00<?, ?it/s]       \u001b[A\n",
            "Validation DataLoader 0:   0% 0/79 [00:00<?, ?it/s]\u001b[A\n",
            "Validation DataLoader 0:  25% 20/79 [00:00<00:00, 74.59it/s]\u001b[A\n",
            "Validation DataLoader 0:  51% 40/79 [00:00<00:00, 74.09it/s]\u001b[A\n",
            "Validation DataLoader 0:  76% 60/79 [00:00<00:00, 72.41it/s]\u001b[A\n",
            "Validation DataLoader 0: 100% 79/79 [00:01<00:00, 73.75it/s]\u001b[A\n",
            "Epoch 9: 100% 391/391 [00:06<00:00, 58.08it/s, v_num=0, train_loss_step=0.0171, val_loss=0.0161, train_loss_epoch=0.0162]\n",
            "Validation: |          | 0/? [00:00<?, ?it/s]\u001b[A\n",
            "Validation:   0% 0/79 [00:00<?, ?it/s]       \u001b[A\n",
            "Validation DataLoader 0:   0% 0/79 [00:00<?, ?it/s]\u001b[A\n",
            "Validation DataLoader 0:  25% 20/79 [00:00<00:00, 72.00it/s]\u001b[A\n",
            "Validation DataLoader 0:  51% 40/79 [00:00<00:00, 72.85it/s]\u001b[A\n",
            "Validation DataLoader 0:  76% 60/79 [00:00<00:00, 73.56it/s]\u001b[A\n",
            "Validation DataLoader 0: 100% 79/79 [00:01<00:00, 69.31it/s]\u001b[A\n",
            "Epoch 10: 100% 391/391 [00:07<00:00, 51.78it/s, v_num=0, train_loss_step=0.0164, val_loss=0.0161, train_loss_epoch=0.0161]\n",
            "Validation: |          | 0/? [00:00<?, ?it/s]\u001b[A\n",
            "Validation:   0% 0/79 [00:00<?, ?it/s]       \u001b[A\n",
            "Validation DataLoader 0:   0% 0/79 [00:00<?, ?it/s]\u001b[A\n",
            "Validation DataLoader 0:  25% 20/79 [00:00<00:00, 76.23it/s]\u001b[A\n",
            "Validation DataLoader 0:  51% 40/79 [00:00<00:00, 75.40it/s]\u001b[A\n",
            "Validation DataLoader 0:  76% 60/79 [00:00<00:00, 72.67it/s]\u001b[A\n",
            "Validation DataLoader 0: 100% 79/79 [00:01<00:00, 73.06it/s]\u001b[A\n",
            "Epoch 11: 100% 391/391 [00:07<00:00, 50.99it/s, v_num=0, train_loss_step=0.0149, val_loss=0.0158, train_loss_epoch=0.0159]\n",
            "Validation: |          | 0/? [00:00<?, ?it/s]\u001b[A\n",
            "Validation:   0% 0/79 [00:00<?, ?it/s]       \u001b[A\n",
            "Validation DataLoader 0:   0% 0/79 [00:00<?, ?it/s]\u001b[A\n",
            "Validation DataLoader 0:  25% 20/79 [00:00<00:00, 76.31it/s]\u001b[A\n",
            "Validation DataLoader 0:  51% 40/79 [00:00<00:00, 72.76it/s]\u001b[A\n",
            "Validation DataLoader 0:  76% 60/79 [00:00<00:00, 73.14it/s]\u001b[A\n",
            "Validation DataLoader 0: 100% 79/79 [00:01<00:00, 74.39it/s]\u001b[A\n",
            "Epoch 12: 100% 391/391 [00:06<00:00, 58.39it/s, v_num=0, train_loss_step=0.0156, val_loss=0.0156, train_loss_epoch=0.0159]\n",
            "Validation: |          | 0/? [00:00<?, ?it/s]\u001b[A\n",
            "Validation:   0% 0/79 [00:00<?, ?it/s]       \u001b[A\n",
            "Validation DataLoader 0:   0% 0/79 [00:00<?, ?it/s]\u001b[A\n",
            "Validation DataLoader 0:  25% 20/79 [00:00<00:00, 71.22it/s]\u001b[A\n",
            "Validation DataLoader 0:  51% 40/79 [00:00<00:00, 70.83it/s]\u001b[A\n",
            "Validation DataLoader 0:  76% 60/79 [00:00<00:00, 72.08it/s]\u001b[A\n",
            "Validation DataLoader 0: 100% 79/79 [00:01<00:00, 70.15it/s]\u001b[A\n",
            "Epoch 13: 100% 391/391 [00:07<00:00, 51.44it/s, v_num=0, train_loss_step=0.0162, val_loss=0.0153, train_loss_epoch=0.0155]\n",
            "Validation: |          | 0/? [00:00<?, ?it/s]\u001b[A\n",
            "Validation:   0% 0/79 [00:00<?, ?it/s]       \u001b[A\n",
            "Validation DataLoader 0:   0% 0/79 [00:00<?, ?it/s]\u001b[A\n",
            "Validation DataLoader 0:  25% 20/79 [00:00<00:00, 75.56it/s]\u001b[A\n",
            "Validation DataLoader 0:  51% 40/79 [00:00<00:00, 72.45it/s]\u001b[A\n",
            "Validation DataLoader 0:  76% 60/79 [00:00<00:00, 72.64it/s]\u001b[A\n",
            "Validation DataLoader 0: 100% 79/79 [00:01<00:00, 73.97it/s]\u001b[A\n",
            "Epoch 14: 100% 391/391 [00:07<00:00, 54.63it/s, v_num=0, train_loss_step=0.0154, val_loss=0.0152, train_loss_epoch=0.0153]\n",
            "Validation: |          | 0/? [00:00<?, ?it/s]\u001b[A\n",
            "Validation:   0% 0/79 [00:00<?, ?it/s]       \u001b[A\n",
            "Validation DataLoader 0:   0% 0/79 [00:00<?, ?it/s]\u001b[A\n",
            "Validation DataLoader 0:  25% 20/79 [00:00<00:01, 56.13it/s]\u001b[A\n",
            "Validation DataLoader 0:  51% 40/79 [00:00<00:00, 53.75it/s]\u001b[A\n",
            "Validation DataLoader 0:  76% 60/79 [00:01<00:00, 50.12it/s]\u001b[A\n",
            "Validation DataLoader 0: 100% 79/79 [00:01<00:00, 48.75it/s]\u001b[A\n",
            "Epoch 15: 100% 391/391 [00:06<00:00, 57.89it/s, v_num=0, train_loss_step=0.014, val_loss=0.0149, train_loss_epoch=0.0152] \n",
            "Validation: |          | 0/? [00:00<?, ?it/s]\u001b[A\n",
            "Validation:   0% 0/79 [00:00<?, ?it/s]       \u001b[A\n",
            "Validation DataLoader 0:   0% 0/79 [00:00<?, ?it/s]\u001b[A\n",
            "Validation DataLoader 0:  25% 20/79 [00:00<00:00, 77.15it/s]\u001b[A\n",
            "Validation DataLoader 0:  51% 40/79 [00:00<00:00, 76.20it/s]\u001b[A\n",
            "Validation DataLoader 0:  76% 60/79 [00:00<00:00, 73.83it/s]\u001b[A\n",
            "Validation DataLoader 0: 100% 79/79 [00:01<00:00, 74.09it/s]\u001b[A\n",
            "Epoch 16: 100% 391/391 [00:07<00:00, 51.35it/s, v_num=0, train_loss_step=0.0135, val_loss=0.0148, train_loss_epoch=0.015]\n",
            "Validation: |          | 0/? [00:00<?, ?it/s]\u001b[A\n",
            "Validation:   0% 0/79 [00:00<?, ?it/s]       \u001b[A\n",
            "Validation DataLoader 0:   0% 0/79 [00:00<?, ?it/s]\u001b[A\n",
            "Validation DataLoader 0:  25% 20/79 [00:00<00:00, 69.95it/s]\u001b[A\n",
            "Validation DataLoader 0:  51% 40/79 [00:00<00:00, 72.92it/s]\u001b[A\n",
            "Validation DataLoader 0:  76% 60/79 [00:00<00:00, 73.75it/s]\u001b[A\n",
            "Validation DataLoader 0: 100% 79/79 [00:01<00:00, 74.20it/s]\u001b[A\n",
            "Epoch 17: 100% 391/391 [00:06<00:00, 58.02it/s, v_num=0, train_loss_step=0.0157, val_loss=0.0146, train_loss_epoch=0.0147]\n",
            "Validation: |          | 0/? [00:00<?, ?it/s]\u001b[A\n",
            "Validation:   0% 0/79 [00:00<?, ?it/s]       \u001b[A\n",
            "Validation DataLoader 0:   0% 0/79 [00:00<?, ?it/s]\u001b[A\n",
            "Validation DataLoader 0:  25% 20/79 [00:00<00:01, 49.92it/s]\u001b[A\n",
            "Validation DataLoader 0:  51% 40/79 [00:00<00:00, 52.53it/s]\u001b[A\n",
            "Validation DataLoader 0:  76% 60/79 [00:01<00:00, 51.08it/s]\u001b[A\n",
            "Validation DataLoader 0: 100% 79/79 [00:01<00:00, 52.51it/s]\u001b[A\n",
            "Epoch 18: 100% 391/391 [00:07<00:00, 54.70it/s, v_num=0, train_loss_step=0.0149, val_loss=0.0145, train_loss_epoch=0.0146]\n",
            "Validation: |          | 0/? [00:00<?, ?it/s]\u001b[A\n",
            "Validation:   0% 0/79 [00:00<?, ?it/s]       \u001b[A\n",
            "Validation DataLoader 0:   0% 0/79 [00:00<?, ?it/s]\u001b[A\n",
            "Validation DataLoader 0:  25% 20/79 [00:00<00:00, 76.06it/s]\u001b[A\n",
            "Validation DataLoader 0:  51% 40/79 [00:00<00:00, 70.39it/s]\u001b[A\n",
            "Validation DataLoader 0:  76% 60/79 [00:00<00:00, 71.33it/s]\u001b[A\n",
            "Validation DataLoader 0: 100% 79/79 [00:01<00:00, 72.21it/s]\u001b[A\n",
            "Epoch 19: 100% 391/391 [00:07<00:00, 50.37it/s, v_num=0, train_loss_step=0.0146, val_loss=0.0145, train_loss_epoch=0.0145]\n",
            "Validation: |          | 0/? [00:00<?, ?it/s]\u001b[A\n",
            "Validation:   0% 0/79 [00:00<?, ?it/s]       \u001b[A\n",
            "Validation DataLoader 0:   0% 0/79 [00:00<?, ?it/s]\u001b[A\n",
            "Validation DataLoader 0:  25% 20/79 [00:00<00:00, 76.41it/s]\u001b[A\n",
            "Validation DataLoader 0:  51% 40/79 [00:00<00:00, 75.88it/s]\u001b[A\n",
            "Validation DataLoader 0:  76% 60/79 [00:00<00:00, 74.41it/s]\u001b[A\n",
            "Validation DataLoader 0: 100% 79/79 [00:01<00:00, 74.17it/s]\u001b[A\n",
            "Epoch 20: 100% 391/391 [00:06<00:00, 58.32it/s, v_num=0, train_loss_step=0.014, val_loss=0.0142, train_loss_epoch=0.0144]\n",
            "Validation: |          | 0/? [00:00<?, ?it/s]\u001b[A\n",
            "Validation:   0% 0/79 [00:00<?, ?it/s]       \u001b[A\n",
            "Validation DataLoader 0:   0% 0/79 [00:00<?, ?it/s]\u001b[A\n",
            "Validation DataLoader 0:  25% 20/79 [00:00<00:00, 74.60it/s]\u001b[A\n",
            "Validation DataLoader 0:  51% 40/79 [00:00<00:00, 72.32it/s]\u001b[A\n",
            "Validation DataLoader 0:  76% 60/79 [00:00<00:00, 73.66it/s]\u001b[A\n",
            "Validation DataLoader 0: 100% 79/79 [00:01<00:00, 71.35it/s]\u001b[A\n",
            "Epoch 21: 100% 391/391 [00:07<00:00, 51.79it/s, v_num=0, train_loss_step=0.0131, val_loss=0.0142, train_loss_epoch=0.0142]\n",
            "Validation: |          | 0/? [00:00<?, ?it/s]\u001b[A\n",
            "Validation:   0% 0/79 [00:00<?, ?it/s]       \u001b[A\n",
            "Validation DataLoader 0:   0% 0/79 [00:00<?, ?it/s]\u001b[A\n",
            "Validation DataLoader 0:  25% 20/79 [00:00<00:00, 71.02it/s]\u001b[A\n",
            "Validation DataLoader 0:  51% 40/79 [00:00<00:00, 71.08it/s]\u001b[A\n",
            "Validation DataLoader 0:  76% 60/79 [00:00<00:00, 72.49it/s]\u001b[A\n",
            "Validation DataLoader 0: 100% 79/79 [00:01<00:00, 74.05it/s]\u001b[A\n",
            "Epoch 22: 100% 391/391 [00:07<00:00, 51.13it/s, v_num=0, train_loss_step=0.0137, val_loss=0.0141, train_loss_epoch=0.0142]\n",
            "Validation: |          | 0/? [00:00<?, ?it/s]\u001b[A\n",
            "Validation:   0% 0/79 [00:00<?, ?it/s]       \u001b[A\n",
            "Validation DataLoader 0:   0% 0/79 [00:00<?, ?it/s]\u001b[A\n",
            "Validation DataLoader 0:  25% 20/79 [00:00<00:00, 71.80it/s]\u001b[A\n",
            "Validation DataLoader 0:  51% 40/79 [00:00<00:00, 72.92it/s]\u001b[A\n",
            "Validation DataLoader 0:  76% 60/79 [00:00<00:00, 73.74it/s]\u001b[A\n",
            "Validation DataLoader 0: 100% 79/79 [00:01<00:00, 74.08it/s]\u001b[A\n",
            "Epoch 23: 100% 391/391 [00:06<00:00, 58.19it/s, v_num=0, train_loss_step=0.0143, val_loss=0.0139, train_loss_epoch=0.014]\n",
            "Validation: |          | 0/? [00:00<?, ?it/s]\u001b[A\n",
            "Validation:   0% 0/79 [00:00<?, ?it/s]       \u001b[A\n",
            "Validation DataLoader 0:   0% 0/79 [00:00<?, ?it/s]\u001b[A\n",
            "Validation DataLoader 0:  25% 20/79 [00:00<00:00, 71.88it/s]\u001b[A\n",
            "Validation DataLoader 0:  51% 40/79 [00:00<00:00, 70.63it/s]\u001b[A\n",
            "Validation DataLoader 0:  76% 60/79 [00:00<00:00, 71.05it/s]\u001b[A\n",
            "Validation DataLoader 0: 100% 79/79 [00:01<00:00, 72.69it/s]\u001b[A\n",
            "Epoch 24: 100% 391/391 [00:07<00:00, 51.51it/s, v_num=0, train_loss_step=0.0131, val_loss=0.0139, train_loss_epoch=0.014]\n",
            "Validation: |          | 0/? [00:00<?, ?it/s]\u001b[A\n",
            "Validation:   0% 0/79 [00:00<?, ?it/s]       \u001b[A\n",
            "Validation DataLoader 0:   0% 0/79 [00:00<?, ?it/s]\u001b[A\n",
            "Validation DataLoader 0:  25% 20/79 [00:00<00:00, 73.95it/s]\u001b[A\n",
            "Validation DataLoader 0:  51% 40/79 [00:00<00:00, 74.72it/s]\u001b[A\n",
            "Validation DataLoader 0:  76% 60/79 [00:00<00:00, 75.20it/s]\u001b[A\n",
            "Validation DataLoader 0: 100% 79/79 [00:01<00:00, 73.76it/s]\u001b[A\n",
            "Epoch 25: 100% 391/391 [00:07<00:00, 54.70it/s, v_num=0, train_loss_step=0.0141, val_loss=0.0138, train_loss_epoch=0.0139]\n",
            "Validation: |          | 0/? [00:00<?, ?it/s]\u001b[A\n",
            "Validation:   0% 0/79 [00:00<?, ?it/s]       \u001b[A\n",
            "Validation DataLoader 0:   0% 0/79 [00:00<?, ?it/s]\u001b[A\n",
            "Validation DataLoader 0:  25% 20/79 [00:00<00:01, 54.63it/s]\u001b[A\n",
            "Validation DataLoader 0:  51% 40/79 [00:00<00:00, 57.04it/s]\u001b[A\n",
            "Validation DataLoader 0:  76% 60/79 [00:01<00:00, 52.45it/s]\u001b[A\n",
            "Validation DataLoader 0: 100% 79/79 [00:01<00:00, 49.59it/s]\u001b[A\n",
            "Epoch 26: 100% 391/391 [00:06<00:00, 57.65it/s, v_num=0, train_loss_step=0.0136, val_loss=0.0138, train_loss_epoch=0.0138]\n",
            "Validation: |          | 0/? [00:00<?, ?it/s]\u001b[A\n",
            "Validation:   0% 0/79 [00:00<?, ?it/s]       \u001b[A\n",
            "Validation DataLoader 0:   0% 0/79 [00:00<?, ?it/s]\u001b[A\n",
            "Validation DataLoader 0:  25% 20/79 [00:00<00:00, 75.44it/s]\u001b[A\n",
            "Validation DataLoader 0:  51% 40/79 [00:00<00:00, 75.89it/s]\u001b[A\n",
            "Validation DataLoader 0:  76% 60/79 [00:00<00:00, 75.10it/s]\u001b[A\n",
            "Validation DataLoader 0: 100% 79/79 [00:01<00:00, 74.49it/s]\u001b[A\n",
            "Epoch 27: 100% 391/391 [00:07<00:00, 51.32it/s, v_num=0, train_loss_step=0.014, val_loss=0.0136, train_loss_epoch=0.0137] \n",
            "Validation: |          | 0/? [00:00<?, ?it/s]\u001b[A\n",
            "Validation:   0% 0/79 [00:00<?, ?it/s]       \u001b[A\n",
            "Validation DataLoader 0:   0% 0/79 [00:00<?, ?it/s]\u001b[A\n",
            "Validation DataLoader 0:  25% 20/79 [00:00<00:00, 77.19it/s]\u001b[A\n",
            "Validation DataLoader 0:  51% 40/79 [00:00<00:00, 75.31it/s]\u001b[A\n",
            "Validation DataLoader 0:  76% 60/79 [00:00<00:00, 73.69it/s]\u001b[A\n",
            "Validation DataLoader 0: 100% 79/79 [00:01<00:00, 73.62it/s]\u001b[A\n",
            "Epoch 28: 100% 391/391 [00:06<00:00, 58.76it/s, v_num=0, train_loss_step=0.0139, val_loss=0.0135, train_loss_epoch=0.0136]\n",
            "Validation: |          | 0/? [00:00<?, ?it/s]\u001b[A\n",
            "Validation:   0% 0/79 [00:00<?, ?it/s]       \u001b[A\n",
            "Validation DataLoader 0:   0% 0/79 [00:00<?, ?it/s]\u001b[A\n",
            "Validation DataLoader 0:  25% 20/79 [00:00<00:01, 48.57it/s]\u001b[A\n",
            "Validation DataLoader 0:  51% 40/79 [00:00<00:00, 51.58it/s]\u001b[A\n",
            "Validation DataLoader 0:  76% 60/79 [00:01<00:00, 51.69it/s]\u001b[A\n",
            "Validation DataLoader 0: 100% 79/79 [00:01<00:00, 51.11it/s]\u001b[A\n",
            "Epoch 29: 100% 391/391 [00:07<00:00, 53.92it/s, v_num=0, train_loss_step=0.0136, val_loss=0.0135, train_loss_epoch=0.0135]\n",
            "Validation: |          | 0/? [00:00<?, ?it/s]\u001b[A\n",
            "Validation:   0% 0/79 [00:00<?, ?it/s]       \u001b[A\n",
            "Validation DataLoader 0:   0% 0/79 [00:00<?, ?it/s]\u001b[A\n",
            "Validation DataLoader 0:  25% 20/79 [00:00<00:00, 75.79it/s]\u001b[A\n",
            "Validation DataLoader 0:  51% 40/79 [00:00<00:00, 74.80it/s]\u001b[A\n",
            "Validation DataLoader 0:  76% 60/79 [00:00<00:00, 73.48it/s]\u001b[A\n",
            "Validation DataLoader 0: 100% 79/79 [00:01<00:00, 74.71it/s]\u001b[A\n",
            "Epoch 29: 100% 391/391 [00:08<00:00, 46.98it/s, v_num=0, train_loss_step=0.0136, val_loss=0.0132, train_loss_epoch=0.0134]`Trainer.fit` stopped: `max_epochs=30` reached.\n",
            "Epoch 29: 100% 391/391 [00:08<00:00, 46.95it/s, v_num=0, train_loss_step=0.0136, val_loss=0.0132, train_loss_epoch=0.0134]\n",
            "LOCAL_RANK: 0 - CUDA_VISIBLE_DEVICES: [0]\n",
            "Testing DataLoader 0: 100% 79/79 [00:00<00:00, 82.25it/s]\n",
            "┏━━━━━━━━━━━━━━━━━━━━━━━━━━━┳━━━━━━━━━━━━━━━━━━━━━━━━━━━┓\n",
            "┃\u001b[1m \u001b[0m\u001b[1m       Test metric       \u001b[0m\u001b[1m \u001b[0m┃\u001b[1m \u001b[0m\u001b[1m      DataLoader 0       \u001b[0m\u001b[1m \u001b[0m┃\n",
            "┡━━━━━━━━━━━━━━━━━━━━━━━━━━━╇━━━━━━━━━━━━━━━━━━━━━━━━━━━┩\n",
            "│\u001b[36m \u001b[0m\u001b[36m        test_loss        \u001b[0m\u001b[36m \u001b[0m│\u001b[35m \u001b[0m\u001b[35m  0.013090042397379875   \u001b[0m\u001b[35m \u001b[0m│\n",
            "└───────────────────────────┴───────────────────────────┘\n"
          ]
        }
      ],
      "source": [
        "!PYTHONPATH=src python src/final_project/train/train_vqvae.py"
      ]
    }
  ],
  "metadata": {
    "language_info": {
      "name": "python"
    },
    "colab": {
      "provenance": [],
      "gpuType": "T4"
    },
    "kernelspec": {
      "name": "python3",
      "display_name": "Python 3"
    },
    "accelerator": "GPU"
  },
  "nbformat": 4,
  "nbformat_minor": 5
}